{
 "cells": [
  {
   "cell_type": "markdown",
   "metadata": {},
   "source": [
    "# Notebook: Métodos Avanzados de NumPy"
   ]
  },
  {
   "cell_type": "code",
   "execution_count": null,
   "metadata": {},
   "outputs": [],
   "source": [
    "import numpy as np"
   ]
  },
  {
   "cell_type": "markdown",
   "metadata": {},
   "source": [
    "### Inversa de una Matriz\n",
    "En este ejemplo, calculamos la inversa de la matriz A."
   ]
  },
  {
   "cell_type": "code",
   "execution_count": null,
   "metadata": {},
   "outputs": [],
   "source": [
    "A = np.array([[1, 2], [3, 4]])\n",
    "inversa_A = np.linalg.inv(A)\n",
    "print(\"Inversa de A:\")\n",
    "print(inversa_A)"
   ]
  },
  {
   "cell_type": "markdown",
   "metadata": {},
   "source": [
    "### Determinante de una Matriz\n",
    "Calculamos el determinante de la matriz A."
   ]
  },
  {
   "cell_type": "code",
   "execution_count": null,
   "metadata": {},
   "outputs": [],
   "source": [
    "det_A = np.linalg.det(A)\n",
    "print(\"Determinante de A:\", det_A)"
   ]
  },
  {
   "cell_type": "markdown",
   "metadata": {},
   "source": [
    "### Valores y Vectores Propios de una Matriz\n",
    "Calculamos los valores y vectores propios de la matriz A."
   ]
  },
  {
   "cell_type": "code",
   "execution_count": null,
   "metadata": {},
   "outputs": [],
   "source": [
    "eig_values, eig_vectors = np.linalg.eig(A)\n",
    "print(\"Valores propios de A:\", eig_values)\n",
    "print(\"Vectores propios de A:\")\n",
    "print(eig_vectors)"
   ]
  },
  {
   "cell_type": "markdown",
   "metadata": {},
   "source": [
    " ### Resolución de un Sistema de Ecuaciones Lineales\n",
    " Resolvemos el sistema Ax = b, donde A es una matriz 3x3 y b es un vector.\n",
    "\n",
    " El sistema de ecuaciones tiene la forma:\n",
    "\n",
    "$$\n",
    "A \\cdot \\mathbf{x} = \\mathbf{b}\n",
    "$$\n",
    "\n",
    "Donde:\n",
    "\n",
    "$$\n",
    "A =\n",
    "\\begin{bmatrix}\n",
    "3 & 1 & 2 \\\\\n",
    "1 & 2 & 3 \\\\\n",
    "2 & 3 & 1\n",
    "\\end{bmatrix}, \\quad\n",
    "\\mathbf{b} =\n",
    "\\begin{bmatrix}\n",
    "1 \\\\\n",
    "2 \\\\\n",
    "3\n",
    "\\end{bmatrix}\n",
    "$$\n",
    "\n",
    "Esto corresponde al sistema:\n",
    "\n",
    "$$\n",
    "\\begin{aligned}\n",
    "3x_1 + x_2 + 2x_3 &= 1 \\\\\n",
    "x_1 + 2x_2 + 3x_3 &= 2 \\\\\n",
    "2x_1 + 3x_2 + x_3 &= 3\n",
    "\\end{aligned}\n",
    "$$\n",
    "\n",
    " "
   ]
  },
  {
   "cell_type": "code",
   "execution_count": null,
   "metadata": {},
   "outputs": [],
   "source": [
    "A = np.array([[3, 1, 2], [1, 2, 3], [2, 3, 1]])\n",
    "b = np.array([1, 2, 3])\n",
    "x = np.linalg.solve(A, b)\n",
    "print(\"Solución del sistema de ecuaciones:\", x)"
   ]
  },
  {
   "cell_type": "markdown",
   "metadata": {},
   "source": [
    "## Transformadas de Fourier con NumPy"
   ]
  },
  {
   "cell_type": "markdown",
   "metadata": {},
   "source": [
    "### Transformada de Fourier de una Señal\n",
    "Calculamos la transformada de Fourier de una señal de ejemplo."
   ]
  },
  {
   "cell_type": "code",
   "execution_count": null,
   "metadata": {},
   "outputs": [],
   "source": [
    "signal = np.array([1, 2, 3, 4])\n",
    "fft_signal = np.fft.fft(signal)\n",
    "print(\"Transformada de Fourier de la señal:\", fft_signal)"
   ]
  },
  {
   "cell_type": "markdown",
   "metadata": {},
   "source": [
    "### Transformada Inversa de Fourier\n",
    "Calculamos la transformada inversa de Fourier para volver al dominio del tiempo."
   ]
  },
  {
   "cell_type": "code",
   "execution_count": null,
   "metadata": {},
   "outputs": [],
   "source": [
    "ifft_signal = np.fft.ifft(fft_signal)\n",
    "print(\"Transformada inversa de Fourier:\", ifft_signal)"
   ]
  },
  {
   "cell_type": "markdown",
   "metadata": {},
   "source": [
    "## Estadísticas y Probabilidades con NumPy"
   ]
  },
  {
   "cell_type": "markdown",
   "metadata": {},
   "source": [
    "### Percentil de un Conjunto de Datos\n",
    "Calculamos el percentil 50 (mediana) de un conjunto de datos."
   ]
  },
  {
   "cell_type": "code",
   "execution_count": null,
   "metadata": {},
   "outputs": [],
   "source": [
    "data = np.array([1, 2, 3, 4, 5, 6, 7, 8, 9])\n",
    "percentile_50 = np.percentile(data, 50)\n",
    "print(\"Percentil 50 (mediana):\", percentile_50)"
   ]
  },
  {
   "cell_type": "markdown",
   "metadata": {},
   "source": [
    "### Covarianza entre Variables\n",
    "Calculamos la matriz de covarianza entre variables."
   ]
  },
  {
   "cell_type": "code",
   "execution_count": null,
   "metadata": {},
   "outputs": [],
   "source": [
    "cov_matrix = np.cov(data)\n",
    "print(\"Matriz de covarianza:\")\n",
    "print(cov_matrix)"
   ]
  },
  {
   "cell_type": "markdown",
   "metadata": {},
   "source": [
    " ### Coeficiente de Correlación entre Variables\n",
    "Calculamos la correlación entre dos conjuntos de datos."
   ]
  },
  {
   "cell_type": "code",
   "execution_count": null,
   "metadata": {},
   "outputs": [],
   "source": [
    "data1 = np.array([1, 2, 3, 4, 5])\n",
    "data2 = np.array([5, 4, 3, 2, 1])\n",
    "correlation = np.corrcoef(data1, data2)\n",
    "print(\"Coeficiente de correlación entre data1 y data2:\")\n",
    "print(correlation)"
   ]
  },
  {
   "cell_type": "markdown",
   "metadata": {},
   "source": [
    "## Cálculos Matemáticos Avanzados"
   ]
  },
  {
   "cell_type": "markdown",
   "metadata": {},
   "source": [
    " ### Gradiente de un Array\n",
    " Calculamos el gradiente de un conjunto de datos para obtener la pendiente."
   ]
  },
  {
   "cell_type": "code",
   "execution_count": null,
   "metadata": {},
   "outputs": [],
   "source": [
    "gradient = np.gradient(data)\n",
    "print(\"Gradiente del array:\", gradient)"
   ]
  },
  {
   "cell_type": "markdown",
   "metadata": {},
   "source": [
    "### Diferencias entre Elementos Consecutivos\n",
    "Calculamos las diferencias entre elementos consecutivos en el array."
   ]
  },
  {
   "cell_type": "code",
   "execution_count": null,
   "metadata": {},
   "outputs": [],
   "source": [
    "differences = np.diff(data)\n",
    "print(\"Diferencias entre elementos consecutivos:\", differences)"
   ]
  },
  {
   "cell_type": "markdown",
   "metadata": {},
   "source": [
    " ### Integración Numérica con la Regla del Trapecio\n",
    "Calculamos el área bajo la curva usando la regla del trapecio."
   ]
  },
  {
   "cell_type": "code",
   "execution_count": null,
   "metadata": {},
   "outputs": [],
   "source": [
    "y = np.array([1, 3, 7, 10])\n",
    "x = np.array([0, 1, 2, 3])\n",
    "area = np.trapz(y, x)\n",
    "print(\"Área bajo la curva:\", area)"
   ]
  },
  {
   "cell_type": "markdown",
   "metadata": {},
   "source": [
    " ## Ejercicio Práctico para Estudiantes\n",
    " Comentario: Ejercicio práctico para que los estudiantes resuelvan en clase.\n",
    "Enunciado: Utilizando NumPy, realice los siguientes pasos:\n",
    "1. Cree una matriz A de tamaño 4x4 con valores aleatorios enteros entre 1 y 10.\n",
    "2. Calcule la inversa de la matriz A.\n",
    "3. Cree un vector b de tamaño 4 con valores aleatorios enteros entre 1 y 10.\n",
    "4. Resuelva el sistema de ecuaciones Ax = b.\n",
    "5. Realice la descomposición en valores singulares (SVD) de la matriz A."
   ]
  }
 ],
 "metadata": {
  "kernelspec": {
   "display_name": "program_2",
   "language": "python",
   "name": "python3"
  },
  "language_info": {
   "codemirror_mode": {
    "name": "ipython",
    "version": 3
   },
   "file_extension": ".py",
   "mimetype": "text/x-python",
   "name": "python",
   "nbconvert_exporter": "python",
   "pygments_lexer": "ipython3",
   "version": "3.12.7"
  }
 },
 "nbformat": 4,
 "nbformat_minor": 2
}
