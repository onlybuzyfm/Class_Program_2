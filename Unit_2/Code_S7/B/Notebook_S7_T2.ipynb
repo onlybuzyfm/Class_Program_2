{
 "cells": [
  {
   "cell_type": "markdown",
   "metadata": {},
   "source": [
    "# Notebook: Métodos Avanzados de NumPy"
   ]
  },
  {
   "cell_type": "code",
   "execution_count": 1,
   "metadata": {},
   "outputs": [],
   "source": [
    "import numpy as np"
   ]
  },
  {
   "cell_type": "markdown",
   "metadata": {},
   "source": [
    "### Inversa de una Matriz\n",
    "En este ejemplo, calculamos la inversa de la matriz A."
   ]
  },
  {
   "cell_type": "code",
   "execution_count": null,
   "metadata": {},
   "outputs": [
    {
     "name": "stdout",
     "output_type": "stream",
     "text": [
      "[[1 2]\n",
      " [3 4]]\n",
      "Inversa de A:\n",
      "[[-2.   1. ]\n",
      " [ 1.5 -0.5]]\n"
     ]
    }
   ],
   "source": [
    "A = np.array([[1, 2], [3, 4]])\n",
    "print(A)\n",
    "inversa_A = np.linalg.inv(A)\n",
    "print(\"Inversa de A:\")\n",
    "print(inversa_A)"
   ]
  },
  {
   "cell_type": "markdown",
   "metadata": {},
   "source": [
    "### Determinante de una Matriz\n",
    "Calculamos el determinante de la matriz A."
   ]
  },
  {
   "cell_type": "code",
   "execution_count": 7,
   "metadata": {},
   "outputs": [
    {
     "name": "stdout",
     "output_type": "stream",
     "text": [
      "Determinante de A: -2\n"
     ]
    }
   ],
   "source": [
    "det_A = np.linalg.det(A)\n",
    "print(f\"Determinante de A: {det_A:.0f}\")"
   ]
  },
  {
   "cell_type": "markdown",
   "metadata": {},
   "source": [
    "### Valores y Vectores Propios de una Matriz\n",
    "Calculamos los valores y vectores propios de la matriz A."
   ]
  },
  {
   "cell_type": "code",
   "execution_count": null,
   "metadata": {},
   "outputs": [
    {
     "name": "stdout",
     "output_type": "stream",
     "text": [
      "Valores propios de A: [-0.37228132  5.37228132]\n",
      "Vectores propios de A:\n",
      "[[-0.82456484 -0.41597356]\n",
      " [ 0.56576746 -0.90937671]]\n"
     ]
    }
   ],
   "source": [
    "eig_values, eig_vectors = np.linalg.eig(A)\n",
    "print(\"Valores propios de A:\", eig_values)\n",
    "print(\"Vectores propios de A:\")\n",
    "print(eig_vectors)"
   ]
  },
  {
   "cell_type": "code",
   "execution_count": 14,
   "metadata": {},
   "outputs": [
    {
     "name": "stdout",
     "output_type": "stream",
     "text": [
      "[1 2 3 4 5 6 7 8 9]\n",
      "[[1 2 3]\n",
      " [4 5 6]\n",
      " [7 8 9]]\n",
      "Valores propios de A: [ 1.61168440e+01 -1.11684397e+00 -9.75918483e-16]\n",
      "Vectores propios de A:\n",
      "[[-0.23197069 -0.78583024  0.40824829]\n",
      " [-0.52532209 -0.08675134 -0.81649658]\n",
      " [-0.8186735   0.61232756  0.40824829]]\n"
     ]
    }
   ],
   "source": [
    "B=np.arange(1,10,1)\n",
    "print(B)\n",
    "B=B.reshape(3,3)\n",
    "print(B)\n",
    "\n",
    "eig_values_b, eig_vectors_b = np.linalg.eig(B)\n",
    "print(\"Valores propios de A:\", eig_values_b)\n",
    "print(\"Vectores propios de A:\")\n",
    "print(eig_vectors_b)\n"
   ]
  },
  {
   "cell_type": "markdown",
   "metadata": {},
   "source": [
    " ### Resolución de un Sistema de Ecuaciones Lineales\n",
    " Resolvemos el sistema Ax = b, donde A es una matriz 3x3 y b es un vector.\n",
    "\n",
    " El sistema de ecuaciones tiene la forma:\n",
    "\n",
    "$$\n",
    "A \\cdot \\mathbf{x} = \\mathbf{b}\n",
    "$$\n",
    "\n",
    "Donde:\n",
    "\n",
    "$$\n",
    "A =\n",
    "\\begin{bmatrix}\n",
    "3 & 1 & 2 \\\\\n",
    "1 & 2 & 3 \\\\\n",
    "2 & 3 & 1\n",
    "\\end{bmatrix}, \\quad\n",
    "\\mathbf{b} =\n",
    "\\begin{bmatrix}\n",
    "1 \\\\\n",
    "2 \\\\\n",
    "3\n",
    "\\end{bmatrix}\n",
    "$$\n",
    "\n",
    "Esto corresponde al sistema:\n",
    "\n",
    "$$\n",
    "\\begin{aligned}\n",
    "3x_1 + x_2 + 2x_3 &= 1 \\\\\n",
    "x_1 + 2x_2 + 3x_3 &= 2 \\\\\n",
    "2x_1 + 3x_2 + x_3 &= 3\n",
    "\\end{aligned}\n",
    "$$\n",
    "\n",
    " "
   ]
  },
  {
   "cell_type": "code",
   "execution_count": 15,
   "metadata": {},
   "outputs": [
    {
     "name": "stdout",
     "output_type": "stream",
     "text": [
      "Solución del sistema de ecuaciones: [ 0.00000000e+00  1.00000000e+00 -2.67275913e-17]\n"
     ]
    }
   ],
   "source": [
    "A = np.array([[3, 1, 2], [1, 2, 3], [2, 3, 1]])\n",
    "b = np.array([1, 2, 3])\n",
    "x = np.linalg.solve(A, b)\n",
    "print(\"Solución del sistema de ecuaciones:\", x)"
   ]
  },
  {
   "cell_type": "code",
   "execution_count": 16,
   "metadata": {},
   "outputs": [],
   "source": [
    "A = np.array([[5, 1, 2], [1, 6, 3], [2, 3, 1]])\n",
    "b = np.array([1, 2, 3])"
   ]
  },
  {
   "cell_type": "code",
   "execution_count": 20,
   "metadata": {},
   "outputs": [
    {
     "name": "stdout",
     "output_type": "stream",
     "text": [
      "[ 0.71428571  1.14285714 -1.85714286]\n"
     ]
    }
   ],
   "source": [
    "A_inv=np.linalg.inv(A)\n",
    "\n",
    "X=np.dot(A_inv,b)\n",
    "print(X)"
   ]
  },
  {
   "cell_type": "code",
   "execution_count": 22,
   "metadata": {},
   "outputs": [
    {
     "name": "stdout",
     "output_type": "stream",
     "text": [
      "[ 0.71428571  1.14285714 -1.85714286]\n"
     ]
    }
   ],
   "source": [
    "X=np.linalg.solve(A,b)\n",
    "print(X)"
   ]
  },
  {
   "cell_type": "markdown",
   "metadata": {},
   "source": [
    "## Transformadas de Fourier con NumPy"
   ]
  },
  {
   "cell_type": "markdown",
   "metadata": {},
   "source": [
    "### Transformada de Fourier de una Señal\n",
    "Calculamos la transformada de Fourier de una señal de ejemplo."
   ]
  },
  {
   "cell_type": "code",
   "execution_count": 23,
   "metadata": {},
   "outputs": [
    {
     "name": "stdout",
     "output_type": "stream",
     "text": [
      "Transformada de Fourier de la señal: [10.+0.j -2.+2.j -2.+0.j -2.-2.j]\n"
     ]
    }
   ],
   "source": [
    "signal = np.array([1, 2, 3, 4])\n",
    "fft_signal = np.fft.fft(signal)\n",
    "print(\"Transformada de Fourier de la señal:\", fft_signal)"
   ]
  },
  {
   "cell_type": "markdown",
   "metadata": {},
   "source": [
    "### Transformada Inversa de Fourier\n",
    "Calculamos la transformada inversa de Fourier para volver al dominio del tiempo."
   ]
  },
  {
   "cell_type": "code",
   "execution_count": 24,
   "metadata": {},
   "outputs": [
    {
     "name": "stdout",
     "output_type": "stream",
     "text": [
      "Transformada inversa de Fourier: [1.+0.j 2.+0.j 3.+0.j 4.+0.j]\n"
     ]
    }
   ],
   "source": [
    "ifft_signal = np.fft.ifft(fft_signal)\n",
    "print(\"Transformada inversa de Fourier:\", ifft_signal)"
   ]
  },
  {
   "cell_type": "markdown",
   "metadata": {},
   "source": [
    "## Estadísticas y Probabilidades con NumPy"
   ]
  },
  {
   "cell_type": "markdown",
   "metadata": {},
   "source": [
    "### Percentil de un Conjunto de Datos\n",
    "Calculamos el percentil 50 (mediana) de un conjunto de datos."
   ]
  },
  {
   "cell_type": "code",
   "execution_count": 29,
   "metadata": {},
   "outputs": [
    {
     "name": "stdout",
     "output_type": "stream",
     "text": [
      "Percentil 50 (mediana): 4.5\n"
     ]
    }
   ],
   "source": [
    "data = np.array([1, 2, 3, 4, 5, 6, 7, 8])\n",
    "percentile_50 = np.percentile(data, 50)\n",
    "print(\"Percentil 50 (mediana):\", percentile_50)"
   ]
  },
  {
   "cell_type": "code",
   "execution_count": 31,
   "metadata": {},
   "outputs": [
    {
     "name": "stdout",
     "output_type": "stream",
     "text": [
      "4.5\n"
     ]
    }
   ],
   "source": [
    "quantile_50 = np.quantile(data, 0.5)\n",
    "print(quantile_50)"
   ]
  },
  {
   "cell_type": "markdown",
   "metadata": {},
   "source": [
    "### Covarianza entre Variables\n",
    "Calculamos la matriz de covarianza entre variables."
   ]
  },
  {
   "cell_type": "code",
   "execution_count": 32,
   "metadata": {},
   "outputs": [
    {
     "name": "stdout",
     "output_type": "stream",
     "text": [
      "Matriz de covarianza:\n",
      "6.0\n"
     ]
    }
   ],
   "source": [
    "cov_matrix = np.cov(data)\n",
    "print(\"Matriz de covarianza:\")\n",
    "print(cov_matrix)"
   ]
  },
  {
   "cell_type": "code",
   "execution_count": 34,
   "metadata": {},
   "outputs": [
    {
     "name": "stdout",
     "output_type": "stream",
     "text": [
      "[[ 2.5 -2.5]\n",
      " [-2.5  2.5]]\n"
     ]
    }
   ],
   "source": [
    "data1 = np.array([1, 2, 3, 4, 5])\n",
    "data2 = np.array([5, 4, 3, 2, 1])\n",
    "\n",
    "cov_matrix = np.cov(data1,data2)\n",
    "print(cov_matrix)"
   ]
  },
  {
   "cell_type": "markdown",
   "metadata": {},
   "source": [
    " ### Coeficiente de Correlación entre Variables\n",
    "Calculamos la correlación entre dos conjuntos de datos."
   ]
  },
  {
   "cell_type": "code",
   "execution_count": 35,
   "metadata": {},
   "outputs": [
    {
     "name": "stdout",
     "output_type": "stream",
     "text": [
      "Coeficiente de correlación entre data1 y data2:\n",
      "[[ 1. -1.]\n",
      " [-1.  1.]]\n"
     ]
    }
   ],
   "source": [
    "data1 = np.array([1, 2, 3, 4, 5])\n",
    "data2 = np.array([5, 4, 3, 2, 1])\n",
    "correlation = np.corrcoef(data1, data2)\n",
    "print(\"Coeficiente de correlación entre data1 y data2:\")\n",
    "print(correlation)"
   ]
  },
  {
   "cell_type": "code",
   "execution_count": 36,
   "metadata": {},
   "outputs": [],
   "source": [
    "data1 = np.array([1, 2000, 0.33, 45, 3455])\n",
    "data2 = np.array([5, 4, 3, 2, 1])"
   ]
  },
  {
   "cell_type": "code",
   "execution_count": 37,
   "metadata": {},
   "outputs": [
    {
     "name": "stdout",
     "output_type": "stream",
     "text": [
      "Coeficiente de correlación entre data1 y data2:\n",
      "[[ 1.         -0.49814444]\n",
      " [-0.49814444  1.        ]]\n"
     ]
    }
   ],
   "source": [
    "correlation = np.corrcoef(data1, data2)\n",
    "print(\"Coeficiente de correlación entre data1 y data2:\")\n",
    "print(correlation)"
   ]
  },
  {
   "cell_type": "markdown",
   "metadata": {},
   "source": [
    "## Cálculos Matemáticos Avanzados"
   ]
  },
  {
   "cell_type": "markdown",
   "metadata": {},
   "source": [
    " ### Gradiente de un Array\n",
    " Calculamos el gradiente de un conjunto de datos para obtener la pendiente."
   ]
  },
  {
   "cell_type": "code",
   "execution_count": 40,
   "metadata": {},
   "outputs": [
    {
     "name": "stdout",
     "output_type": "stream",
     "text": [
      "[1.000e+00 2.000e+03 3.300e-01 4.500e+01 3.455e+03]\n",
      "Gradiente del array: [ 1.999000e+03 -3.350000e-01 -9.775000e+02  1.727335e+03  3.410000e+03]\n"
     ]
    }
   ],
   "source": [
    "print(data1)\n",
    "gradient = np.gradient(data1)\n",
    "print(\"Gradiente del array:\", gradient)"
   ]
  },
  {
   "cell_type": "markdown",
   "metadata": {},
   "source": [
    "### Diferencias entre Elementos Consecutivos\n",
    "Calculamos las diferencias entre elementos consecutivos en el array."
   ]
  },
  {
   "cell_type": "code",
   "execution_count": 41,
   "metadata": {},
   "outputs": [
    {
     "name": "stdout",
     "output_type": "stream",
     "text": [
      "Diferencias entre elementos consecutivos: [ 1999.   -1999.67    44.67  3410.  ]\n"
     ]
    }
   ],
   "source": [
    "differences = np.diff(data1)\n",
    "print(\"Diferencias entre elementos consecutivos:\", differences)"
   ]
  },
  {
   "cell_type": "markdown",
   "metadata": {},
   "source": [
    " ### Integración Numérica con la Regla del Trapecio\n",
    "Calculamos el área bajo la curva usando la regla del trapecio."
   ]
  },
  {
   "cell_type": "code",
   "execution_count": null,
   "metadata": {},
   "outputs": [
    {
     "name": "stdout",
     "output_type": "stream",
     "text": [
      "Área bajo la curva: 15.5\n"
     ]
    }
   ],
   "source": [
    "y = np.array([1, 3, 7, 10])\n",
    "x = np.array([0, 1, 2, 3])\n",
    "area = np.trapezoid(y, x)\n",
    "print(\"Área bajo la curva:\", area)"
   ]
  },
  {
   "cell_type": "code",
   "execution_count": 47,
   "metadata": {},
   "outputs": [
    {
     "name": "stdout",
     "output_type": "stream",
     "text": [
      "[ 1  4  9 16]\n",
      "[ 1  8 27 64]\n"
     ]
    }
   ],
   "source": [
    "def square (x): #Todo: Funcion \n",
    "    return x ** 2\n",
    "vectorized_square = np. vectorize ( square )\n",
    "data = np. array ([1 , 2, 3, 4])\n",
    "result = vectorized_square ( data )\n",
    "print ( result )\n",
    "\n",
    "\n",
    "\n",
    "def cubic (x): #Todo: Funcion \n",
    "    return x ** 3\n",
    "\n",
    "vectorized_cubic = np. vectorize ( cubic )\n",
    "data = np. array ([1 , 2, 3, 4])\n",
    "result = vectorized_cubic ( data )\n",
    "print ( result )"
   ]
  },
  {
   "cell_type": "code",
   "execution_count": null,
   "metadata": {},
   "outputs": [
    {
     "name": "stdout",
     "output_type": "stream",
     "text": [
      "[ 5. 15.]\n"
     ]
    }
   ],
   "source": [
    "x = np. array ([0 , 1, 2])\n",
    "y = np. array ([0 , 10, 20])\n",
    "\n",
    "x_new = np. array ([0.5 , 1.5])\n",
    "\n",
    "y_new = np.interp (x_new , x, y)\n",
    "\n",
    "print ( y_new )"
   ]
  },
  {
   "cell_type": "code",
   "execution_count": 49,
   "metadata": {},
   "outputs": [
    {
     "name": "stdout",
     "output_type": "stream",
     "text": [
      "[[ 0.75164068  1.31217283 -1.71323641]\n",
      " [ 0.44682484  1.81563289 -1.26169734]\n",
      " [ 0.14543517 -0.81452613  1.50989248]]\n"
     ]
    }
   ],
   "source": [
    "normal_data = np. random . randn (3, 3)\n",
    "print ( normal_data )"
   ]
  },
  {
   "cell_type": "code",
   "execution_count": 52,
   "metadata": {},
   "outputs": [
    {
     "name": "stdout",
     "output_type": "stream",
     "text": [
      "[-1.  -0.5  0.   0.5  1. ]\n",
      "[-1.  -0.5  0.   0.5  1. ]\n",
      "X: [[-1.  -0.5  0.   0.5  1. ]\n",
      " [-1.  -0.5  0.   0.5  1. ]\n",
      " [-1.  -0.5  0.   0.5  1. ]\n",
      " [-1.  -0.5  0.   0.5  1. ]\n",
      " [-1.  -0.5  0.   0.5  1. ]]\n",
      "Y: [[-1.  -1.  -1.  -1.  -1. ]\n",
      " [-0.5 -0.5 -0.5 -0.5 -0.5]\n",
      " [ 0.   0.   0.   0.   0. ]\n",
      " [ 0.5  0.5  0.5  0.5  0.5]\n",
      " [ 1.   1.   1.   1.   1. ]]\n"
     ]
    }
   ],
   "source": [
    "x = np. linspace (-1, 1, 5)\n",
    "\n",
    "print(x)\n",
    "\n",
    "y = np. linspace (-1, 1, 5)\n",
    "print(y)\n",
    "X, Y = np. meshgrid (x, y)\n",
    "print (\"X:\", X)\n",
    "print (\"Y:\", Y)\n"
   ]
  },
  {
   "cell_type": "code",
   "execution_count": 53,
   "metadata": {},
   "outputs": [
    {
     "name": "stdout",
     "output_type": "stream",
     "text": [
      "[[3 4]\n",
      " [6 8]]\n"
     ]
    }
   ],
   "source": [
    "v1 = np. array ([1 , 2])\n",
    "v2 = np. array ([3 , 4])\n",
    "outer_product = np. outer (v1 , v2)\n",
    "print ( outer_product )"
   ]
  },
  {
   "cell_type": "markdown",
   "metadata": {},
   "source": [
    " ## Ejercicio Práctico para Estudiantes\n",
    " Comentario: Ejercicio práctico para que los estudiantes resuelvan en clase.\n",
    "Enunciado: Utilizando NumPy, realice los siguientes pasos:\n",
    "1. Cree una matriz A de tamaño 4x4 con valores aleatorios enteros entre 1 y 10.\n",
    "2. Calcule la inversa de la matriz A.\n",
    "3. Cree un vector b de tamaño 4 con valores aleatorios enteros entre 1 y 10.\n",
    "4. Resuelva el sistema de ecuaciones Ax = b.\n",
    "5. Realice la descomposición en valores singulares (SVD) de la matriz A. y explicar que hace, puntos extra"
   ]
  }
 ],
 "metadata": {
  "kernelspec": {
   "display_name": "program_2",
   "language": "python",
   "name": "python3"
  },
  "language_info": {
   "codemirror_mode": {
    "name": "ipython",
    "version": 3
   },
   "file_extension": ".py",
   "mimetype": "text/x-python",
   "name": "python",
   "nbconvert_exporter": "python",
   "pygments_lexer": "ipython3",
   "version": "3.12.7"
  }
 },
 "nbformat": 4,
 "nbformat_minor": 2
}
