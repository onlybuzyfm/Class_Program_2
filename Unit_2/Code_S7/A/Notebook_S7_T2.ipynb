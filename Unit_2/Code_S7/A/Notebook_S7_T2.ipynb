{
 "cells": [
  {
   "cell_type": "markdown",
   "metadata": {},
   "source": [
    "# Notebook: Métodos Avanzados de NumPy"
   ]
  },
  {
   "cell_type": "code",
   "execution_count": 3,
   "metadata": {},
   "outputs": [],
   "source": [
    "import numpy as np"
   ]
  },
  {
   "cell_type": "markdown",
   "metadata": {},
   "source": [
    "### Inversa de una Matriz\n",
    "En este ejemplo, calculamos la inversa de la matriz A."
   ]
  },
  {
   "cell_type": "code",
   "execution_count": 4,
   "metadata": {},
   "outputs": [
    {
     "name": "stdout",
     "output_type": "stream",
     "text": [
      "[[1 2]\n",
      " [3 4]]\n",
      "Inversa de A:\n",
      "[[-2.   1. ]\n",
      " [ 1.5 -0.5]]\n"
     ]
    }
   ],
   "source": [
    "A = np.array([[1, 2], [3, 4]])\n",
    "print(A)\n",
    "inversa_A = np.linalg.inv(A)\n",
    "print(\"Inversa de A:\")\n",
    "print(inversa_A)"
   ]
  },
  {
   "cell_type": "markdown",
   "metadata": {},
   "source": [
    "### Determinante de una Matriz\n",
    "Calculamos el determinante de la matriz A."
   ]
  },
  {
   "cell_type": "code",
   "execution_count": 16,
   "metadata": {},
   "outputs": [
    {
     "name": "stdout",
     "output_type": "stream",
     "text": [
      "Determinante de A: -2 \n"
     ]
    }
   ],
   "source": [
    "det_A = np.linalg.det(A)\n",
    "ReferenceError\n",
    "print(f\"Determinante de A: {det_A:.0f} \")"
   ]
  },
  {
   "cell_type": "markdown",
   "metadata": {},
   "source": [
    "### Valores y Vectores Propios de una Matriz\n",
    "Calculamos los valores y vectores propios de la matriz A."
   ]
  },
  {
   "cell_type": "code",
   "execution_count": 24,
   "metadata": {},
   "outputs": [
    {
     "name": "stdout",
     "output_type": "stream",
     "text": [
      "[ 5 10 15 20 25 30 35 40 45]\n"
     ]
    }
   ],
   "source": [
    "B=np.arange(5,50,5)\n",
    "print(B)\n",
    "B=B.reshape(3,3)"
   ]
  },
  {
   "cell_type": "code",
   "execution_count": 17,
   "metadata": {},
   "outputs": [
    {
     "name": "stdout",
     "output_type": "stream",
     "text": [
      "Valores propios de A: [-0.37228132  5.37228132]\n",
      "Vectores propios de A:\n",
      "[[-0.82456484 -0.41597356]\n",
      " [ 0.56576746 -0.90937671]]\n"
     ]
    }
   ],
   "source": [
    "eig_values, eig_vectors = np.linalg.eig(A)\n",
    "print(\"Valores propios de A:\", eig_values)\n",
    "print(\"Vectores propios de A:\")\n",
    "print(eig_vectors)"
   ]
  },
  {
   "cell_type": "code",
   "execution_count": 27,
   "metadata": {},
   "outputs": [
    {
     "name": "stdout",
     "output_type": "stream",
     "text": [
      "Valores propios de B: [ 8.05842198e+01 -5.58421985e+00  4.15330564e-16]\n",
      "Vectores propios de B:\n",
      "[[-0.23197069 -0.78583024  0.40824829]\n",
      " [-0.52532209 -0.08675134 -0.81649658]\n",
      " [-0.8186735   0.61232756  0.40824829]]\n"
     ]
    }
   ],
   "source": [
    "eig_values_B, eig_vectors_B = np.linalg.eig(B)\n",
    "print(\"Valores propios de B:\", eig_values_B)\n",
    "print(\"Vectores propios de B:\")\n",
    "print(eig_vectors_B)"
   ]
  },
  {
   "cell_type": "markdown",
   "metadata": {},
   "source": [
    " ### Resolución de un Sistema de Ecuaciones Lineales\n",
    " Resolvemos el sistema Ax = b, donde A es una matriz 3x3 y b es un vector.\n",
    "\n",
    " El sistema de ecuaciones tiene la forma:\n",
    "\n",
    "$$\n",
    "A \\cdot \\mathbf{x} = \\mathbf{b}\n",
    "$$\n",
    "\n",
    "Donde:\n",
    "\n",
    "$$\n",
    "A =\n",
    "\\begin{bmatrix}\n",
    "3 & 1 & 2 \\\\\n",
    "1 & 2 & 3 \\\\\n",
    "2 & 3 & 1\n",
    "\\end{bmatrix}, \\quad\n",
    "\\mathbf{b} =\n",
    "\\begin{bmatrix}\n",
    "1 \\\\\n",
    "2 \\\\\n",
    "3\n",
    "\\end{bmatrix}\n",
    "$$\n",
    "\n",
    "Esto corresponde al sistema:\n",
    "\n",
    "$$\n",
    "\\begin{aligned}\n",
    "3x_1 + x_2 + 2x_3 &= 1 \\\\\n",
    "x_1 + 2x_2 + 3x_3 &= 2 \\\\\n",
    "2x_1 + 3x_2 + x_3 &= 3\n",
    "\\end{aligned}\n",
    "$$\n",
    "\n",
    " "
   ]
  },
  {
   "cell_type": "code",
   "execution_count": 38,
   "metadata": {},
   "outputs": [
    {
     "name": "stdout",
     "output_type": "stream",
     "text": [
      "Solución del sistema de ecuaciones: [ 0.71428571  1.14285714 -1.85714286]\n"
     ]
    }
   ],
   "source": [
    "A = np.array([[5, 1, 2], [1, 6, 3], [2, 3, 1]])\n",
    "b = np.array([1, 2, 3])\n",
    "x = np.linalg.solve(A, b)\n",
    "print(\"Solución del sistema de ecuaciones:\", x) "
   ]
  },
  {
   "cell_type": "code",
   "execution_count": 37,
   "metadata": {},
   "outputs": [
    {
     "name": "stdout",
     "output_type": "stream",
     "text": [
      "[ 0.71428571  1.14285714 -1.85714286]\n"
     ]
    }
   ],
   "source": [
    "A_inv=np.linalg.inv(A)\n",
    "X=np.dot(A_inv,b)\n",
    "print(X)"
   ]
  },
  {
   "cell_type": "markdown",
   "metadata": {},
   "source": [
    "## Transformadas de Fourier con NumPy"
   ]
  },
  {
   "cell_type": "markdown",
   "metadata": {},
   "source": [
    "### Transformada de Fourier de una Señal\n",
    "Calculamos la transformada de Fourier de una señal de ejemplo."
   ]
  },
  {
   "cell_type": "code",
   "execution_count": 39,
   "metadata": {},
   "outputs": [
    {
     "name": "stdout",
     "output_type": "stream",
     "text": [
      "Transformada de Fourier de la señal: [10.+0.j -2.+2.j -2.+0.j -2.-2.j]\n"
     ]
    }
   ],
   "source": [
    "signal = np.array([1, 2, 3, 4])\n",
    "fft_signal = np.fft.fft(signal)\n",
    "print(\"Transformada de Fourier de la señal:\", fft_signal)"
   ]
  },
  {
   "cell_type": "markdown",
   "metadata": {},
   "source": [
    "### Transformada Inversa de Fourier\n",
    "Calculamos la transformada inversa de Fourier para volver al dominio del tiempo."
   ]
  },
  {
   "cell_type": "code",
   "execution_count": 40,
   "metadata": {},
   "outputs": [
    {
     "name": "stdout",
     "output_type": "stream",
     "text": [
      "Transformada inversa de Fourier: [1.+0.j 2.+0.j 3.+0.j 4.+0.j]\n"
     ]
    }
   ],
   "source": [
    "ifft_signal = np.fft.ifft(fft_signal)\n",
    "print(\"Transformada inversa de Fourier:\", ifft_signal)"
   ]
  },
  {
   "cell_type": "markdown",
   "metadata": {},
   "source": [
    "## Estadísticas y Probabilidades con NumPy"
   ]
  },
  {
   "cell_type": "markdown",
   "metadata": {},
   "source": [
    "### Percentil de un Conjunto de Datos\n",
    "Calculamos el percentil 50 (mediana) de un conjunto de datos."
   ]
  },
  {
   "cell_type": "code",
   "execution_count": 48,
   "metadata": {},
   "outputs": [
    {
     "name": "stdout",
     "output_type": "stream",
     "text": [
      "Percentil 50 (mediana): 5.0\n",
      "Percentil 25 : 3.0\n"
     ]
    }
   ],
   "source": [
    "data = np.array([1, 2, 3, 4, 5, 6, 7, 8, 9])\n",
    "percentile_50 = np.percentile(data, 50)\n",
    "print(\"Percentil 50 (mediana):\", percentile_50)\n",
    "\n",
    "percentile_25 = np.quantile(data, 0.25)\n",
    "print(\"Percentil 25 :\", percentile_25)"
   ]
  },
  {
   "cell_type": "markdown",
   "metadata": {},
   "source": [
    "### Covarianza entre Variables\n",
    "Calculamos la matriz de covarianza entre variables."
   ]
  },
  {
   "cell_type": "code",
   "execution_count": 51,
   "metadata": {},
   "outputs": [
    {
     "name": "stdout",
     "output_type": "stream",
     "text": [
      "Matriz de covarianza:\n",
      "7.5\n"
     ]
    }
   ],
   "source": [
    "cov_matrix = np.cov(data)\n",
    "print(\"Matriz de covarianza:\")\n",
    "print(cov_matrix)"
   ]
  },
  {
   "cell_type": "markdown",
   "metadata": {},
   "source": [
    " ### Coeficiente de Correlación entre Variables\n",
    "Calculamos la correlación entre dos conjuntos de datos."
   ]
  },
  {
   "cell_type": "code",
   "execution_count": 58,
   "metadata": {},
   "outputs": [
    {
     "name": "stdout",
     "output_type": "stream",
     "text": [
      "Coeficiente de correlación entre data1 y data2:\n",
      "[[ 1.       -0.444345]\n",
      " [-0.444345  1.      ]]\n"
     ]
    }
   ],
   "source": [
    "data1 = np.array([67, 23, 50, 56, 103])\n",
    "data2 = np.array([30, 20.4, 40.3, 0.2, 0.1])\n",
    "correlation = np.corrcoef(data1, data2)\n",
    "print(\"Coeficiente de correlación entre data1 y data2:\")\n",
    "print(correlation)"
   ]
  },
  {
   "cell_type": "markdown",
   "metadata": {},
   "source": [
    "## Cálculos Matemáticos Avanzados"
   ]
  },
  {
   "cell_type": "markdown",
   "metadata": {},
   "source": [
    " ### Gradiente de un Array\n",
    " Calculamos el gradiente de un conjunto de datos para obtener la pendiente."
   ]
  },
  {
   "cell_type": "code",
   "execution_count": 59,
   "metadata": {},
   "outputs": [
    {
     "name": "stdout",
     "output_type": "stream",
     "text": [
      "Gradiente del array: [1. 1. 1. 1. 1. 1. 1. 1. 1.]\n"
     ]
    }
   ],
   "source": [
    "gradient = np.gradient(data)\n",
    "print(\"Gradiente del array:\", gradient)"
   ]
  },
  {
   "cell_type": "code",
   "execution_count": 60,
   "metadata": {},
   "outputs": [
    {
     "name": "stdout",
     "output_type": "stream",
     "text": [
      "Gradiente del array: [ -9.6    5.15 -10.1  -20.1   -0.1 ]\n"
     ]
    }
   ],
   "source": [
    "gradient_2= np.gradient(data2)\n",
    "print(\"Gradiente del array:\", gradient_2)"
   ]
  },
  {
   "cell_type": "markdown",
   "metadata": {},
   "source": [
    "### Diferencias entre Elementos Consecutivos\n",
    "Calculamos las diferencias entre elementos consecutivos en el array."
   ]
  },
  {
   "cell_type": "code",
   "execution_count": 61,
   "metadata": {},
   "outputs": [
    {
     "name": "stdout",
     "output_type": "stream",
     "text": [
      "Diferencias entre elementos consecutivos: [1 1 1 1 1 1 1 1]\n"
     ]
    }
   ],
   "source": [
    "differences = np.diff(data)\n",
    "print(\"Diferencias entre elementos consecutivos:\", differences)"
   ]
  },
  {
   "cell_type": "code",
   "execution_count": 62,
   "metadata": {},
   "outputs": [
    {
     "name": "stdout",
     "output_type": "stream",
     "text": [
      "Diferencias entre elementos consecutivos: [ -9.6  19.9 -40.1  -0.1]\n"
     ]
    }
   ],
   "source": [
    "differences_2 = np.diff(data2)\n",
    "print(\"Diferencias entre elementos consecutivos:\", differences_2)"
   ]
  },
  {
   "cell_type": "markdown",
   "metadata": {},
   "source": [
    " ### Integración Numérica con la Regla del Trapecio\n",
    "Calculamos el área bajo la curva usando la regla del trapecio."
   ]
  },
  {
   "cell_type": "code",
   "execution_count": 76,
   "metadata": {},
   "outputs": [
    {
     "name": "stdout",
     "output_type": "stream",
     "text": [
      "Área bajo la curva: 15.5\n"
     ]
    }
   ],
   "source": [
    "y = np.array([1, 3, 7, 10])\n",
    "x = np.array([0, 1, 2, 3])\n",
    "area = np.trapezoid(y, x,dx=2,axis=0)\n",
    "print(\"Área bajo la curva:\", area)"
   ]
  },
  {
   "cell_type": "markdown",
   "metadata": {},
   "source": [
    " ## Ejercicio Práctico para Estudiantes\n",
    " Comentario: Ejercicio práctico para que los estudiantes resuelvan en clase.\n",
    "Enunciado: Utilizando NumPy, realice los siguientes pasos:\n",
    "1. Cree una matriz A de tamaño 4x4 con valores aleatorios enteros entre 1 y 10.\n",
    "2. Calcule la inversa de la matriz A.\n",
    "3. Cree un vector b de tamaño 4 con valores aleatorios enteros entre 1 y 10.\n",
    "4. Resuelva el sistema de ecuaciones Ax = b. De manera matricial \n",
    "5. Realice la descomposición en Valores y Vectores Propios de la matriz A."
   ]
  },
  {
   "cell_type": "markdown",
   "metadata": {},
   "source": []
  },
  {
   "cell_type": "markdown",
   "metadata": {},
   "source": []
  }
 ],
 "metadata": {
  "kernelspec": {
   "display_name": "program_2",
   "language": "python",
   "name": "python3"
  },
  "language_info": {
   "codemirror_mode": {
    "name": "ipython",
    "version": 3
   },
   "file_extension": ".py",
   "mimetype": "text/x-python",
   "name": "python",
   "nbconvert_exporter": "python",
   "pygments_lexer": "ipython3",
   "version": "3.12.7"
  }
 },
 "nbformat": 4,
 "nbformat_minor": 2
}
