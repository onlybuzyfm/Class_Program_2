{
 "cells": [
  {
   "cell_type": "markdown",
   "metadata": {},
   "source": [
    "# Preprocesamiento de Datos con NumPy - Semana 6"
   ]
  },
  {
   "cell_type": "markdown",
   "metadata": {},
   "source": [
    "### Introducción\n",
    "En este notebook, exploraremos la **indexación y segmentación** de arreglos usando NumPy, con aplicaciones prácticas para ciencia de datos e inteligencia artificial. Los estudiantes aprenderán sobre indexación básica, avanzada y condicional, además de cómo aplicar estas técnicas en el contexto de la limpieza de datos y análisis."
   ]
  },
  {
   "cell_type": "code",
   "execution_count": null,
   "metadata": {},
   "outputs": [],
   "source": [
    "# Importar la librería NumPy\n",
    "import numpy as np"
   ]
  },
  {
   "cell_type": "markdown",
   "metadata": {},
   "source": [
    "### Creación de Arreglo Unidimensional\n",
    "Primero, vamos a crear un arreglo simple para aprender las técnicas de indexación básica."
   ]
  },
  {
   "cell_type": "code",
   "execution_count": null,
   "metadata": {},
   "outputs": [],
   "source": [
    "arreglo_1d = np.array([10, 20, 30, 40, 50])\n",
    "print(\"Arreglo Unidimensional:\", arreglo_1d)"
   ]
  },
  {
   "cell_type": "markdown",
   "metadata": {},
   "source": [
    "### 2. Indexación Básica\n",
    "Accedemos a elementos específicos del arreglo usando índices positivos y negativos.\n"
   ]
  },
  {
   "cell_type": "code",
   "execution_count": null,
   "metadata": {},
   "outputs": [],
   "source": [
    "print(\"Primer elemento:\", arreglo_1d[0])  # Índice 0\n",
    "print(\"Último elemento:\", arreglo_1d[-1])  # Índice -1"
   ]
  },
  {
   "cell_type": "markdown",
   "metadata": {},
   "source": [
    "### 3. Slicing de Arreglos\n",
    "Utilizamos la técnica de slicing para obtener subconjuntos de datos del arreglo."
   ]
  },
  {
   "cell_type": "code",
   "execution_count": null,
   "metadata": {},
   "outputs": [],
   "source": [
    "sub_arreglo = arreglo_1d[1:4]\n",
    "print(\"Segmento del arreglo (índices 1 a 3):\", sub_arreglo)"
   ]
  },
  {
   "cell_type": "markdown",
   "metadata": {},
   "source": [
    "### 4. Creación de un Arreglo Multidimensional\n",
    "Ahora, vamos a crear un arreglo bidimensional para aprender sobre indexación de matrices."
   ]
  },
  {
   "cell_type": "code",
   "execution_count": null,
   "metadata": {},
   "outputs": [],
   "source": [
    "matriz = np.array([[1, 2, 3], [4, 5, 6], [7, 8, 9]])\n",
    "print(\"Matriz:\")\n",
    "print(matriz)"
   ]
  },
  {
   "cell_type": "markdown",
   "metadata": {},
   "source": [
    "\n",
    "### 5. Indexación en Arreglos Multidimensionales\n",
    "Accedemos a elementos específicos usando `[fila, columna]`."
   ]
  },
  {
   "cell_type": "code",
   "execution_count": null,
   "metadata": {},
   "outputs": [],
   "source": [
    "print(\"Elemento en la fila 1, columna 2:\", matriz[1, 2])\n",
    "print(\"Toda la columna 1:\", matriz[:, 1])"
   ]
  },
  {
   "cell_type": "markdown",
   "metadata": {},
   "source": [
    "### 6. Slicing en Matrices\n",
    "Podemos extraer una submatriz de una matriz original usando slicing."
   ]
  },
  {
   "cell_type": "code",
   "execution_count": null,
   "metadata": {},
   "outputs": [],
   "source": [
    "sub_matriz = matriz[0:2, 1:3]\n",
    "print(\"Submatriz (filas 0 a 1, columnas 1 a 2):\")\n",
    "print(sub_matriz)"
   ]
  },
  {
   "cell_type": "markdown",
   "metadata": {},
   "source": [
    "### 7. Indexación Booleana\n",
    "Filtramos valores en la matriz que cumplan ciertas condiciones."
   ]
  },
  {
   "cell_type": "code",
   "execution_count": null,
   "metadata": {},
   "outputs": [],
   "source": [
    "mayores_a_5 = matriz[matriz > 5]\n",
    "print(\"Elementos mayores a 5:\", mayores_a_5)"
   ]
  },
  {
   "cell_type": "markdown",
   "metadata": {},
   "source": [
    "### 8. Indexación Avanzada con Listas de Índices\n",
    "Podemos usar listas de índices para acceder a múltiples elementos específicos."
   ]
  },
  {
   "cell_type": "code",
   "execution_count": null,
   "metadata": {},
   "outputs": [],
   "source": [
    "indices = [0, 2, 4]\n",
    "seleccion = arreglo_1d[indices]\n",
    "print(\"Elementos en los índices [0, 2, 4]:\", seleccion)"
   ]
  },
  {
   "cell_type": "markdown",
   "metadata": {},
   "source": [
    "### 9. Broadcasting en Matrices\n",
    "Aplicamos una operación a toda la matriz utilizando broadcasting."
   ]
  },
  {
   "cell_type": "code",
   "execution_count": null,
   "metadata": {},
   "outputs": [],
   "source": [
    "vector = np.array([1, 2, 3])\n",
    "matriz_suma = matriz + vector\n",
    "print(\"Resultado del broadcasting:\")\n",
    "print(matriz_suma)"
   ]
  },
  {
   "cell_type": "markdown",
   "metadata": {},
   "source": [
    "### 10. Máscaras Complejas y Filtrado Condicional Avanzado\n",
    "Aplicamos técnicas avanzadas de filtrado condicional utilizando máscaras booleanas complejas para filtrar datos según múltiples condiciones."
   ]
  },
  {
   "cell_type": "code",
   "execution_count": null,
   "metadata": {},
   "outputs": [],
   "source": [
    "condicion = (matriz > 5) & (matriz < 9)\n",
    "elementos_filtrados = matriz[condicion]\n",
    "print(\"Elementos entre 5 y 9:\", elementos_filtrados)"
   ]
  },
  {
   "cell_type": "markdown",
   "metadata": {},
   "source": [
    "### 11. Uso de np.where() para Transformación de Datos\n",
    "Utilizamos `np.where()` para modificar los datos de la matriz según condiciones específicas."
   ]
  },
  {
   "cell_type": "markdown",
   "metadata": {},
   "source": [
    "matriz_modificada = np.where(matriz < 5, 0, matriz)\n",
    "print(\"Matriz modificada (valores menores a 5 reemplazados por 0):\")\n",
    "print(matriz_modificada)"
   ]
  }
 ],
 "metadata": {
  "kernelspec": {
   "display_name": "program_2",
   "language": "python",
   "name": "python3"
  },
  "language_info": {
   "codemirror_mode": {
    "name": "ipython",
    "version": 3
   },
   "file_extension": ".py",
   "mimetype": "text/x-python",
   "name": "python",
   "nbconvert_exporter": "python",
   "pygments_lexer": "ipython3",
   "version": "3.12.7"
  }
 },
 "nbformat": 4,
 "nbformat_minor": 2
}
