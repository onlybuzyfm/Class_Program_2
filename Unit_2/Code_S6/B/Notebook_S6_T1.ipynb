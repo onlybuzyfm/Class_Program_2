{
 "cells": [
  {
   "cell_type": "markdown",
   "metadata": {},
   "source": [
    "# Preprocesamiento de Datos con NumPy - Semana 6"
   ]
  },
  {
   "cell_type": "markdown",
   "metadata": {},
   "source": [
    "### Introducción\n",
    "En este notebook, exploraremos la **indexación y segmentación** de arreglos usando NumPy, con aplicaciones prácticas para ciencia de datos e inteligencia artificial. Los estudiantes aprenderán sobre indexación básica, avanzada y condicional, además de cómo aplicar estas técnicas en el contexto de la limpieza de datos y análisis."
   ]
  },
  {
   "cell_type": "code",
   "execution_count": null,
   "metadata": {},
   "outputs": [],
   "source": [
    "# Importar la librería NumPy\n",
    "import numpy as np"
   ]
  },
  {
   "cell_type": "markdown",
   "metadata": {},
   "source": [
    "### Creación de Arreglo Unidimensional\n",
    "Primero, vamos a crear un arreglo simple para aprender las técnicas de indexación básica."
   ]
  },
  {
   "cell_type": "code",
   "execution_count": null,
   "metadata": {},
   "outputs": [],
   "source": [
    "arreglo_1d = np.array([10, 20, 30, 40, 50])\n",
    "print(\"Arreglo Unidimensional:\", arreglo_1d)\n",
    "\n",
    "type(arreglo_1d)"
   ]
  },
  {
   "cell_type": "code",
   "execution_count": null,
   "metadata": {},
   "outputs": [],
   "source": [
    "\n",
    "a=[10, 20, 30, 40, 50]\n",
    "type(a)"
   ]
  },
  {
   "cell_type": "markdown",
   "metadata": {},
   "source": [
    "### 2. Indexación Básica\n",
    "Accedemos a elementos específicos del arreglo usando índices positivos y negativos.\n"
   ]
  },
  {
   "cell_type": "code",
   "execution_count": null,
   "metadata": {},
   "outputs": [],
   "source": [
    "print(\"Primer elemento:\", arreglo_1d[0])  # Índice 0\n",
    "print(\"Penúltimo elemento:\", arreglo_1d[-2])  # Índice -1"
   ]
  },
  {
   "cell_type": "code",
   "execution_count": null,
   "metadata": {},
   "outputs": [],
   "source": [
    "print(\"Último elemento:\", arreglo_1d[-1]) "
   ]
  },
  {
   "cell_type": "markdown",
   "metadata": {},
   "source": [
    "### 3. Slicing de Arreglos\n",
    "Utilizamos la técnica de slicing para obtener subconjuntos de datos del arreglo."
   ]
  },
  {
   "cell_type": "code",
   "execution_count": null,
   "metadata": {},
   "outputs": [],
   "source": [
    "sub_arreglo = arreglo_1d[1:4] #Todo [m: n-1] las posiciones que toman en cuenta\n",
    "print(\"Segmento del arreglo (índices 1 a 3):\", sub_arreglo)"
   ]
  },
  {
   "cell_type": "code",
   "execution_count": null,
   "metadata": {},
   "outputs": [],
   "source": [
    "sub_arreglo = arreglo_1d[1:3]"
   ]
  },
  {
   "cell_type": "markdown",
   "metadata": {},
   "source": [
    "### 4. Creación de un Arreglo Multidimensional\n",
    "Ahora, vamos a crear un arreglo bidimensional para aprender sobre indexación de matrices."
   ]
  },
  {
   "cell_type": "code",
   "execution_count": null,
   "metadata": {},
   "outputs": [],
   "source": [
    "matriz = np.array([[1, 2, 3], [4, 5, 6], [7, 8, 9]])\n",
    "print(\"Matriz:\")\n",
    "print(matriz)"
   ]
  },
  {
   "cell_type": "code",
   "execution_count": null,
   "metadata": {},
   "outputs": [],
   "source": [
    "m1=[[1, 2, 3], [4, 5, 6], [7, 8, 9]]\n",
    "print(m1)"
   ]
  },
  {
   "cell_type": "markdown",
   "metadata": {},
   "source": [
    "\n",
    "### 5. Indexación en Arreglos Multidimensionales\n",
    "Accedemos a elementos específicos usando `[fila, columna]`."
   ]
  },
  {
   "cell_type": "code",
   "execution_count": null,
   "metadata": {},
   "outputs": [],
   "source": [
    "print(\"Elemento en la fila 1, columna 2:\", matriz[1, 2])\n",
    "print(\"Toda la columna 1:\", matriz[:, 1])"
   ]
  },
  {
   "cell_type": "markdown",
   "metadata": {},
   "source": [
    "### 6. Slicing en Matrices\n",
    "Podemos extraer una submatriz de una matriz original usando slicing."
   ]
  },
  {
   "cell_type": "code",
   "execution_count": null,
   "metadata": {},
   "outputs": [],
   "source": [
    "print(matriz)\n",
    "\n"
   ]
  },
  {
   "cell_type": "code",
   "execution_count": null,
   "metadata": {},
   "outputs": [],
   "source": [
    "sub_matriz = matriz[0:2, 1:3]\n",
    "print(\"Submatriz (filas 0 a 1, columnas 1 a 2):\")\n",
    "print(sub_matriz)"
   ]
  },
  {
   "cell_type": "markdown",
   "metadata": {},
   "source": [
    "### 7. Indexación Booleana\n",
    "Filtramos valores en la matriz que cumplan ciertas condiciones."
   ]
  },
  {
   "cell_type": "code",
   "execution_count": null,
   "metadata": {},
   "outputs": [],
   "source": [
    "mayores_a_5 = matriz[matriz >= 5]\n",
    "\n",
    "print(\"Elementos mayores a 5:\", mayores_a_5)"
   ]
  },
  {
   "cell_type": "code",
   "execution_count": null,
   "metadata": {},
   "outputs": [],
   "source": [
    "menores_a_5 = matriz[matriz <= 5]\n",
    "print(\"Elementos menores a 5:\", menores_a_5)\n",
    "\n",
    "type(menores_a_5)"
   ]
  },
  {
   "cell_type": "markdown",
   "metadata": {},
   "source": [
    "### 8. Indexación Avanzada con Listas de Índices\n",
    "Podemos usar listas de índices para acceder a múltiples elementos específicos."
   ]
  },
  {
   "cell_type": "code",
   "execution_count": null,
   "metadata": {},
   "outputs": [],
   "source": [
    "print(arreglo_1d)"
   ]
  },
  {
   "cell_type": "code",
   "execution_count": null,
   "metadata": {},
   "outputs": [],
   "source": [
    "indices = [0, 2, -1]\n",
    "seleccion = arreglo_1d[indices]\n",
    "print(arreglo_1d)\n",
    "print(\"Elementos en los índices [0, 2, 4]:\", seleccion)\n",
    "\n",
    "type(indices)\n",
    "\n"
   ]
  },
  {
   "cell_type": "code",
   "execution_count": null,
   "metadata": {},
   "outputs": [],
   "source": [
    "indices_1 = [-1, -3, -5]\n",
    "seleccion_1 = arreglo_1d[indices_1]\n",
    "\n",
    "print(\"Elementos en los índices [-1, -3, -4]:\", seleccion_1)"
   ]
  },
  {
   "cell_type": "markdown",
   "metadata": {},
   "source": [
    "### 9. Broadcasting en Matrices\n",
    "Aplicamos una operación a toda la matriz utilizando broadcasting."
   ]
  },
  {
   "cell_type": "code",
   "execution_count": null,
   "metadata": {},
   "outputs": [],
   "source": [
    "print(matriz)"
   ]
  },
  {
   "cell_type": "code",
   "execution_count": null,
   "metadata": {},
   "outputs": [],
   "source": [
    "vector = np.array([1, 2, 3])\n",
    "matriz_suma = matriz + vector\n",
    "print(\"Resultado del broadcasting:\")\n",
    "print(matriz_suma)"
   ]
  },
  {
   "cell_type": "code",
   "execution_count": null,
   "metadata": {},
   "outputs": [],
   "source": [
    "vector = np.array([1, 2, 3])\n",
    "matriz_mul = matriz * vector\n",
    "print(\"Resultado del broadcasting:\")\n",
    "print(matriz_mul)\n",
    "\n",
    "\n",
    "\n"
   ]
  },
  {
   "cell_type": "code",
   "execution_count": null,
   "metadata": {},
   "outputs": [],
   "source": [
    "vector_t=[[1, 2, 3],[1, 2, 3],[1, 2, 3]]"
   ]
  },
  {
   "cell_type": "code",
   "execution_count": null,
   "metadata": {},
   "outputs": [],
   "source": [
    "print(matriz)"
   ]
  },
  {
   "cell_type": "markdown",
   "metadata": {},
   "source": [
    "### 10. Máscaras Complejas y Filtrado Condicional Avanzado\n",
    "Aplicamos técnicas avanzadas de filtrado condicional utilizando máscaras booleanas complejas para filtrar datos según múltiples condiciones."
   ]
  },
  {
   "cell_type": "code",
   "execution_count": null,
   "metadata": {},
   "outputs": [],
   "source": [
    "print(matriz)"
   ]
  },
  {
   "cell_type": "code",
   "execution_count": null,
   "metadata": {},
   "outputs": [],
   "source": [
    "condicion = (matriz >= 5) & (matriz <= 7)\n",
    "elementos_filtrados = matriz[condicion]\n",
    "print(\"Elementos entre 5 y 9:\", elementos_filtrados)"
   ]
  },
  {
   "cell_type": "markdown",
   "metadata": {},
   "source": [
    "### 11. Uso de np.where() para Transformación de Datos\n",
    "Utilizamos `np.where()` para modificar los datos de la matriz según condiciones específicas."
   ]
  },
  {
   "cell_type": "code",
   "execution_count": null,
   "metadata": {},
   "outputs": [],
   "source": [
    "media=matriz.mean()\n",
    "matriz_modificada = np.where(matriz > 5, media, matriz)\n",
    "print(\"Matriz modificada (valores menores a 5 reemplazados por 0):\")\n",
    "print(matriz_modificada)"
   ]
  },
  {
   "cell_type": "markdown",
   "metadata": {},
   "source": [
    "### 12. Detección de Outliers\n",
    "Identificamos y reemplazamos valores atípicos (outliers) en la matriz utilizando la media."
   ]
  },
  {
   "cell_type": "code",
   "execution_count": null,
   "metadata": {},
   "outputs": [],
   "source": [
    "media_matriz = np.mean(matriz)\n",
    "matriz_sin_outliers = np.where(matriz > 7, media_matriz, matriz)\n",
    "print(\"Matriz sin outliers (valores mayores a 7 reemplazados por la media):\")\n",
    "print(matriz_sin_outliers)"
   ]
  },
  {
   "cell_type": "markdown",
   "metadata": {},
   "source": [
    "### 13. Ejercicio Práctico\n",
    "1. Crear un arreglo multidimensional (3x5) con valores aleatorios entre 1 y 20 usando `np.random.randint()`.\n",
    "2. Extraer una submatriz del arreglo usando **slicing**.\n",
    "3. Filtrar los valores mayores a 10 del arreglo.\n",
    "4. Aplicar **broadcasting** sumando un vector a cada fila del arreglo.\n",
    "5. Utilizar `np.where()` para modificar los valores menores a 5 por 0."
   ]
  },
  {
   "cell_type": "code",
   "execution_count": 38,
   "metadata": {},
   "outputs": [
    {
     "name": "stdout",
     "output_type": "stream",
     "text": [
      "Arreglo original:\n",
      "[[12 20 17 10  9]\n",
      " [ 2 19  3  2  8]\n",
      " [ 9  2 17 13 15]]\n",
      "\n",
      "Submatriz extraída (filas 0-1, columnas 0-2):\n",
      "[[12 20 17]\n",
      " [ 2 19  3]]\n",
      "\n",
      "Valores mayores a 10:\n",
      "[12 20 17 19 17 13 15]\n",
      "\n",
      "Arreglo después de aplicar broadcasting:\n",
      "[[13 22 20 14 14]\n",
      " [ 3 21  6  6 13]\n",
      " [10  4 20 17 20]]\n",
      "\n",
      "Arreglo después de aplicar np.where() (valores menores a 5 son 0):\n",
      "[[12 20 17 10  9]\n",
      " [ 0 19  0  0  8]\n",
      " [ 9  0 17 13 15]]\n"
     ]
    }
   ],
   "source": [
    "# Crear un arreglo multidimensional (3x5) con valores aleatorios entre 1 y 20\n",
    "arr = np.random.randint(1, 21, size=(3, 5))\n",
    "\n",
    "# Mostrar el arreglo generado\n",
    "print(\"Arreglo original:\")\n",
    "print(arr)\n",
    "\n",
    "# Extraer una submatriz usando slicing (por ejemplo, las dos primeras filas y las tres primeras columnas)\n",
    "submatriz = arr[:2, :3]\n",
    "\n",
    "# Mostrar la submatriz\n",
    "print(\"\\nSubmatriz extraída (filas 0-1, columnas 0-2):\")\n",
    "print(submatriz)\n",
    "\n",
    "# Filtrar los valores mayores a 10 del arreglo\n",
    "valoresMayores10 = arr[arr > 10]\n",
    "\n",
    "# Mostrar los valores mayores a 10\n",
    "print(\"\\nValores mayores a 10:\")\n",
    "print(valoresMayores10)\n",
    "\n",
    "# Aplicar broadcasting sumando un vector a cada fila del arreglo\n",
    "# Creamos un vector con 5 valores (uno para cada columna)\n",
    "vector = np.array([1, 2, 3, 4, 5])\n",
    "arrBroadcasted = arr + vector\n",
    "\n",
    "# Mostrar el arreglo después del broadcasting\n",
    "print(\"\\nArreglo después de aplicar broadcasting:\")\n",
    "print(arrBroadcasted)\n",
    "\n",
    "# Utilizar np.where() para modificar los valores menores a 5 por 0\n",
    "arrModificado = np.where(arr < 5, 0, arr)\n",
    "\n",
    "# Mostrar el arreglo modificado\n",
    "print(\"\\nArreglo después de aplicar np.where() (valores menores a 5 son 0):\")\n",
    "print(arrModificado)\n"
   ]
  },
  {
   "cell_type": "code",
   "execution_count": 43,
   "metadata": {},
   "outputs": [
    {
     "name": "stdout",
     "output_type": "stream",
     "text": [
      "[[10  4 17 17  3]\n",
      " [11 13 13 16  8]\n",
      " [19  6  5  4  5]]\n"
     ]
    }
   ],
   "source": [
    "random_matrix=np.random.randint(1,21,(3,5))\n",
    "print(random_matrix)"
   ]
  },
  {
   "cell_type": "code",
   "execution_count": null,
   "metadata": {},
   "outputs": [],
   "source": [
    "import numpy as np\n",
    "import random\n",
    "# 1. Crear un arreglo multidimensional (3x5) con valores aleatorios entre 1 y 20\n",
    "arreglo = np.array([[random.randint(1, 20) for _ in range(5)] for _ in range(3)])\n",
    "print(\"Arreglo original (3x5):\\n\", arreglo)\n",
    "# 2. Extraer una submatriz del arreglo usando slicing (ejemplo de selección de las primeras dos filas y tres primeras columnas)\n",
    "submatriz = arreglo[:2, :3]\n",
    "print(\"\\nSubmatriz (2x3):\\n\", submatriz)\n",
    "# 3. Filtrar los valores mayores a 10 del arreglo\n",
    "filtro_mayor_10 = arreglo[arreglo > 10]\n",
    "print(\"\\nValores mayores a 10:\\n\", filtro_mayor_10)\n",
    "# 4. Aplicar broadcasting sumando un vector a cada fila del arreglo\n",
    "vector = np.array([1, 2, 3, 4, 5])\n",
    "arreglo_sumado = arreglo + vector\n",
    "print(\"\\nArreglo con broadcasting:\\n\", arreglo_sumado)\n",
    "# 5. Utilizar np.where() para modificar los valores menores a 5 por 0\n",
    "arreglo_modificado = np.where(arreglo < 5, 0, arreglo)\n",
    "print(\"\\nArreglo con valores menores a 5 reemplazados por 0:\\n\", arreglo_modificado)"
   ]
  },
  {
   "cell_type": "code",
   "execution_count": 45,
   "metadata": {},
   "outputs": [],
   "source": [
    "import time\n",
    "import random"
   ]
  },
  {
   "cell_type": "code",
   "execution_count": 46,
   "metadata": {},
   "outputs": [
    {
     "name": "stdout",
     "output_type": "stream",
     "text": [
      "Tiempo de cómputo: 4.496145486831665 segundos\n"
     ]
    }
   ],
   "source": [
    "start_time = time.time()\n",
    "\n",
    "arreglo = np.array([[random.randint(100, 1000) for _ in range(1000)] for _ in range(10000)])\n",
    "\n",
    "end_time = time.time()\n",
    "\n",
    "elapsed_time = end_time - start_time\n",
    "print(f\"Tiempo de cómputo: {elapsed_time} segundos\")"
   ]
  },
  {
   "cell_type": "code",
   "execution_count": 47,
   "metadata": {},
   "outputs": [
    {
     "name": "stdout",
     "output_type": "stream",
     "text": [
      "Tiempo de cómputo: 0.044805288314819336 segundos\n"
     ]
    }
   ],
   "source": [
    "start_time = time.time()\n",
    "\n",
    "random_matrix=np.random.randint(100,1001,(10000,1000))\n",
    "\n",
    "end_time = time.time()\n",
    "\n",
    "elapsed_time = end_time - start_time\n",
    "print(f\"Tiempo de cómputo: {elapsed_time} segundos\")"
   ]
  },
  {
   "cell_type": "code",
   "execution_count": 48,
   "metadata": {},
   "outputs": [
    {
     "name": "stdout",
     "output_type": "stream",
     "text": [
      "Matriz original:\n",
      " [[38 35 16 35 21]\n",
      " [39  5 50 49  7]\n",
      " [50 36  1 12 40]]\n",
      "\n",
      "Submatriz extraída:\n",
      " [[38 35 16]\n",
      " [39  5 50]]\n",
      "\n",
      "Valores mayores a 10:\n",
      " [38 35 16 35 21 39 50 49 50 36 12 40]\n",
      "\n",
      "Matriz después de aplicar broadcasting (suma del vector a cada fila):\n",
      " [[39 37 19 39 26]\n",
      " [40  7 53 53 12]\n",
      " [51 38  4 16 45]]\n",
      "\n",
      "Matriz con valores menores a 5 cambiados por 0:\n",
      " [[38 35 16 35 21]\n",
      " [39  5 50 49  7]\n",
      " [50 36  0 12 40]]\n"
     ]
    }
   ],
   "source": [
    "import numpy as np\n",
    "matriz = np.random.randint(1, 51, size=(3, 5))\n",
    "print(\"Matriz original:\\n\", matriz)\n",
    "submatriz = matriz[:2, :3]\n",
    "print(\"\\nSubmatriz extraída:\\n\", submatriz)\n",
    "\n",
    "filtro_mayor_10 = matriz[matriz > 10]\n",
    "print(\"\\nValores mayores a 10:\\n\", filtro_mayor_10)\n",
    "\n",
    "vector = np.array([1, 2, 3, 4, 5])  \n",
    "matriz_broadcast = matriz + vector\n",
    "print(\"\\nMatriz después de aplicar broadcasting (suma del vector a cada fila):\\n\", matriz_broadcast)\n",
    "\n",
    "matriz_modificada = np.where(matriz < 5, 0, matriz)\n",
    "print(\"\\nMatriz con valores menores a 5 cambiados por 0:\\n\", matriz_modificada)"
   ]
  },
  {
   "cell_type": "code",
   "execution_count": 49,
   "metadata": {},
   "outputs": [
    {
     "name": "stdout",
     "output_type": "stream",
     "text": [
      "Matriz original:\n",
      " [[20  7  2  9  8]\n",
      " [11  3 18 19  6]\n",
      " [ 1  4 10 19  5]]\n",
      "\n",
      "Porción de la matriz (primeras tres columnas):\n",
      " [[20  7  2]\n",
      " [11  3 18]\n",
      " [ 1  4 10]]\n",
      "\n",
      "Elementos mayores a 10:\n",
      " [20 11 18 19 19]\n",
      "\n",
      "Matriz después de aplicar el broadcasting:\n",
      " [[21  9  5 13 13]\n",
      " [12  5 21 23 11]\n",
      " [ 2  6 13 23 10]]\n",
      "\n",
      "Matriz con valores menores a 5 cambiados a 0:\n",
      " [[20  7  0  9  8]\n",
      " [11  0 18 19  6]\n",
      " [ 0  0 10 19  5]]\n"
     ]
    }
   ],
   "source": [
    "# 1. Generar una matriz de 3x5 con números aleatorios entre 1 y 20\n",
    "arreglo = np.random.randint(1, 21, (3, 5))\n",
    "print(\"Matriz original:\\n\", arreglo)\n",
    "\n",
    "# 2. Seleccionar una porción de la matriz usando slicing\n",
    "submatriz = arreglo[:, :3]\n",
    "print(\"\\nPorción de la matriz (primeras tres columnas):\\n\", submatriz)\n",
    "\n",
    "# 3. Identificar los elementos del arreglo que son mayores a 10\n",
    "filtro_mayores_10 = arreglo[arreglo > 10]\n",
    "print(\"\\nElementos mayores a 10:\\n\", filtro_mayores_10)\n",
    "\n",
    "# 4. Usar broadcasting para sumar un vector a cada fila de la matriz\n",
    "vector = np.array([1, 2, 3, 4, 5])\n",
    "arreglo_broadcast = arreglo + vector\n",
    "print(\"\\nMatriz después de aplicar el broadcasting:\\n\", arreglo_broadcast)\n",
    "\n",
    "# 5. Emplear np.where() para reemplazar los valores menores a 5 con 0\n",
    "arreglo_modificado = np.where(arreglo < 5, 0, arreglo)\n",
    "print(\"\\nMatriz con valores menores a 5 cambiados a 0:\\n\", arreglo_modificado)\n"
   ]
  }
 ],
 "metadata": {
  "kernelspec": {
   "display_name": "program_2",
   "language": "python",
   "name": "python3"
  },
  "language_info": {
   "codemirror_mode": {
    "name": "ipython",
    "version": 3
   },
   "file_extension": ".py",
   "mimetype": "text/x-python",
   "name": "python",
   "nbconvert_exporter": "python",
   "pygments_lexer": "ipython3",
   "version": "3.12.7"
  }
 },
 "nbformat": 4,
 "nbformat_minor": 2
}
