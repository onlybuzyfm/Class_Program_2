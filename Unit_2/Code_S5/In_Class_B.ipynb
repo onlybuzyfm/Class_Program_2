{
 "cells": [
  {
   "cell_type": "markdown",
   "metadata": {},
   "source": [
    "# Semana 5: Introducción a Arreglos Multidimensionales con NumPy\n",
    "\n",
    "### Importar la Librería NumPy\n",
    "\n",
    "Para empezar a trabajar con NumPy, necesitamos importar la librería. NumPy es esencial para realizar cálculos matemáticos y manipular arreglos en Python.\n",
    "Asegúrate de que tienes NumPy instalado antes de ejecutarlo."
   ]
  },
  {
   "cell_type": "code",
   "execution_count": 2,
   "metadata": {},
   "outputs": [],
   "source": [
    "import numpy as np"
   ]
  },
  {
   "cell_type": "markdown",
   "metadata": {},
   "source": [
    "### Creación de Arreglos Unidimensionales\n",
    "Vamos a crear un arreglo unidimensional sencillo y explorar sus propiedades.\n",
    "Este tipo de arreglo se conoce como un vector y es la base para trabajar con arreglos más complejos.\n",
    "\n",
    "**Pregunta a los estudiantes:**\n",
    "- ¿Qué creen que representa cada índice en el arreglo?"
   ]
  },
  {
   "cell_type": "code",
   "execution_count": 4,
   "metadata": {},
   "outputs": [
    {
     "data": {
      "text/plain": [
       "list"
      ]
     },
     "execution_count": 4,
     "metadata": {},
     "output_type": "execute_result"
    }
   ],
   "source": [
    "list_1=[1,2,3]\n",
    "type(list_1)"
   ]
  },
  {
   "cell_type": "code",
   "execution_count": 5,
   "metadata": {},
   "outputs": [
    {
     "name": "stdout",
     "output_type": "stream",
     "text": [
      "Mi arreglo unidimensional: [1 2 3 4 5]\n"
     ]
    },
    {
     "data": {
      "text/plain": [
       "numpy.ndarray"
      ]
     },
     "execution_count": 5,
     "metadata": {},
     "output_type": "execute_result"
    }
   ],
   "source": [
    "mi_arreglo = np.array([1, 2, 3, 4, 5])\n",
    "print(\"Mi arreglo unidimensional:\", mi_arreglo)\n",
    "\n",
    "type(mi_arreglo)"
   ]
  },
  {
   "cell_type": "markdown",
   "metadata": {},
   "source": [
    "### Creación de Arreglos Multidimensionales\n",
    "\n",
    "Ahora crearemos una matriz bidimensional, que tiene dos filas y tres columnas. Este tipo de arreglo es conocido como una matriz y se usa comúnmente para almacenar datos tabulares.\n"
   ]
  },
  {
   "cell_type": "code",
   "execution_count": 6,
   "metadata": {},
   "outputs": [
    {
     "name": "stdout",
     "output_type": "stream",
     "text": [
      "Matriz bidimensional:\n",
      "[[1 2 3]\n",
      " [4 5 6]]\n"
     ]
    }
   ],
   "source": [
    "matriz = np.array([[1, 2, 3], [4, 5, 6]])\n",
    "print(\"Matriz bidimensional:\")\n",
    "print(matriz)"
   ]
  },
  {
   "cell_type": "code",
   "execution_count": 8,
   "metadata": {},
   "outputs": [
    {
     "name": "stdout",
     "output_type": "stream",
     "text": [
      "[[1, 2, 3], [4, 5, 6]]\n"
     ]
    }
   ],
   "source": [
    "m_1_l=[[1, 2, 3], [4, 5, 6]]\n",
    "print(m_1_l)"
   ]
  },
  {
   "cell_type": "markdown",
   "metadata": {},
   "source": [
    "\n",
    "**Ejercicio para los estudiantes:**\n",
    "- Cree una matriz similar con sus propios valores."
   ]
  },
  {
   "cell_type": "markdown",
   "metadata": {},
   "source": [
    "### Tipo de Datos en NumPy\n",
    "\n",
    "Podemos definir el tipo de dato en nuestros arreglos. Por defecto, NumPy asigna el tipo según los elementos del arreglo, pero a veces es útil especificar el tipo manualmente para optimizar el uso de memoria o asegurar compatibilidad.\n",
    "\n",
    "**Pregunta para los estudiantes:**\n",
    "- ¿Por qué sería útil especificar el tipo de dato?"
   ]
  },
  {
   "cell_type": "code",
   "execution_count": 23,
   "metadata": {},
   "outputs": [
    {
     "name": "stdout",
     "output_type": "stream",
     "text": [
      "Arreglo con tipo de dato flotante: [1.5 2.3 3.1]\n",
      "[False  True  True]\n",
      "Arreglo con tipo de dato flotante: [1.5000e+00 6.5504e+06 3.1000e+00]\n"
     ]
    }
   ],
   "source": [
    "arreglo_flotante = np.array([1.5, 2.3, 3.1], dtype=np.float64)\n",
    "print(\"Arreglo con tipo de dato flotante:\", arreglo_flotante)\n",
    "\n",
    "\n",
    "arreglo_flotante_bool = np.array([0, 2.3, 3.1], dtype=np.bool)\n",
    "print(arreglo_flotante_bool)\n",
    "\n",
    "\n",
    "arreglo_flotante_max = np.array([1.5, 6550400, 3.1], dtype=np.float32)\n",
    "print(\"Arreglo con tipo de dato flotante:\", arreglo_flotante_max)\n"
   ]
  },
  {
   "cell_type": "markdown",
   "metadata": {},
   "source": [
    "### Propiedades de un Arreglo\n",
    "\n",
    "Vamos a explorar algunas propiedades útiles de los arreglos en NumPy:\n",
    "- `shape`: Nos indica la forma del arreglo, es decir, el número de elementos en cada dimensión.\n",
    "- `ndim`: Nos devuelve el número de dimensiones del arreglo.\n",
    "\n",
    "\n"
   ]
  },
  {
   "cell_type": "code",
   "execution_count": 27,
   "metadata": {},
   "outputs": [
    {
     "name": "stdout",
     "output_type": "stream",
     "text": [
      "Forma del arreglo unidimensional: (5,)\n",
      "Dimensiones de la matriz: 1\n",
      "Forma del tensor: (1, 2, 3)\n",
      "Dimensiones del tensor: 3\n"
     ]
    }
   ],
   "source": [
    "print(\"Forma del arreglo unidimensional:\", mi_arreglo.shape)\n",
    "print(\"Dimensiones de la matriz:\", mi_arreglo.ndim)\n",
    "\n",
    "\n",
    "tensor = np.array([[[1, 2, 3], [4, 5, 6]]])\n",
    "\n",
    "\n",
    "print(\"Forma del tensor:\", tensor.shape)\n",
    "print(\"Dimensiones del tensor:\", tensor.ndim)\n"
   ]
  },
  {
   "cell_type": "markdown",
   "metadata": {},
   "source": [
    "**Ejercicio para los estudiantes:**\n",
    "- Verifique las propiedades para la matriz que crearon."
   ]
  },
  {
   "cell_type": "markdown",
   "metadata": {},
   "source": [
    "### Funciones para Crear Arreglos Rápidamente"
   ]
  },
  {
   "cell_type": "markdown",
   "metadata": {},
   "source": [
    "NumPy proporciona funciones útiles para crear arreglos específicos de manera rápida:\n",
    "- `np.zeros()`: Crea un arreglo lleno de ceros.\n",
    "- `np.ones()`: Crea un arreglo lleno de unos.\n",
    "- `np.arange()`: Genera un rango de números.\n",
    "\n",
    "**Pregunta para los estudiantes:**\n",
    "- ¿Para qué podría ser útil un arreglo de ceros?"
   ]
  },
  {
   "cell_type": "code",
   "execution_count": 30,
   "metadata": {},
   "outputs": [
    {
     "name": "stdout",
     "output_type": "stream",
     "text": [
      "Matriz de ceros (3x4):\n",
      "[[0. 0. 0. 0.]\n",
      " [0. 0. 0. 0.]\n",
      " [0. 0. 0. 0.]]\n",
      "Matriz de unos (2x5):\n",
      "[[1. 1. 1. 1. 1.]\n",
      " [1. 1. 1. 1. 1.]]\n",
      "Arreglo creado con np.arange: [0 2 4 6 8]\n",
      "Arreglo creado con np.linspace: [0.         0.003003   0.00600601 0.00900901 0.01201201 0.01501502\n",
      " 0.01801802 0.02102102 0.02402402 0.02702703 0.03003003 0.03303303\n",
      " 0.03603604 0.03903904 0.04204204 0.04504505 0.04804805 0.05105105\n",
      " 0.05405405 0.05705706 0.06006006 0.06306306 0.06606607 0.06906907\n",
      " 0.07207207 0.07507508 0.07807808 0.08108108 0.08408408 0.08708709\n",
      " 0.09009009 0.09309309 0.0960961  0.0990991  0.1021021  0.10510511\n",
      " 0.10810811 0.11111111 0.11411411 0.11711712 0.12012012 0.12312312\n",
      " 0.12612613 0.12912913 0.13213213 0.13513514 0.13813814 0.14114114\n",
      " 0.14414414 0.14714715 0.15015015 0.15315315 0.15615616 0.15915916\n",
      " 0.16216216 0.16516517 0.16816817 0.17117117 0.17417417 0.17717718\n",
      " 0.18018018 0.18318318 0.18618619 0.18918919 0.19219219 0.1951952\n",
      " 0.1981982  0.2012012  0.2042042  0.20720721 0.21021021 0.21321321\n",
      " 0.21621622 0.21921922 0.22222222 0.22522523 0.22822823 0.23123123\n",
      " 0.23423423 0.23723724 0.24024024 0.24324324 0.24624625 0.24924925\n",
      " 0.25225225 0.25525526 0.25825826 0.26126126 0.26426426 0.26726727\n",
      " 0.27027027 0.27327327 0.27627628 0.27927928 0.28228228 0.28528529\n",
      " 0.28828829 0.29129129 0.29429429 0.2972973  0.3003003  0.3033033\n",
      " 0.30630631 0.30930931 0.31231231 0.31531532 0.31831832 0.32132132\n",
      " 0.32432432 0.32732733 0.33033033 0.33333333 0.33633634 0.33933934\n",
      " 0.34234234 0.34534535 0.34834835 0.35135135 0.35435435 0.35735736\n",
      " 0.36036036 0.36336336 0.36636637 0.36936937 0.37237237 0.37537538\n",
      " 0.37837838 0.38138138 0.38438438 0.38738739 0.39039039 0.39339339\n",
      " 0.3963964  0.3993994  0.4024024  0.40540541 0.40840841 0.41141141\n",
      " 0.41441441 0.41741742 0.42042042 0.42342342 0.42642643 0.42942943\n",
      " 0.43243243 0.43543544 0.43843844 0.44144144 0.44444444 0.44744745\n",
      " 0.45045045 0.45345345 0.45645646 0.45945946 0.46246246 0.46546547\n",
      " 0.46846847 0.47147147 0.47447447 0.47747748 0.48048048 0.48348348\n",
      " 0.48648649 0.48948949 0.49249249 0.4954955  0.4984985  0.5015015\n",
      " 0.5045045  0.50750751 0.51051051 0.51351351 0.51651652 0.51951952\n",
      " 0.52252252 0.52552553 0.52852853 0.53153153 0.53453453 0.53753754\n",
      " 0.54054054 0.54354354 0.54654655 0.54954955 0.55255255 0.55555556\n",
      " 0.55855856 0.56156156 0.56456456 0.56756757 0.57057057 0.57357357\n",
      " 0.57657658 0.57957958 0.58258258 0.58558559 0.58858859 0.59159159\n",
      " 0.59459459 0.5975976  0.6006006  0.6036036  0.60660661 0.60960961\n",
      " 0.61261261 0.61561562 0.61861862 0.62162162 0.62462462 0.62762763\n",
      " 0.63063063 0.63363363 0.63663664 0.63963964 0.64264264 0.64564565\n",
      " 0.64864865 0.65165165 0.65465465 0.65765766 0.66066066 0.66366366\n",
      " 0.66666667 0.66966967 0.67267267 0.67567568 0.67867868 0.68168168\n",
      " 0.68468468 0.68768769 0.69069069 0.69369369 0.6966967  0.6996997\n",
      " 0.7027027  0.70570571 0.70870871 0.71171171 0.71471471 0.71771772\n",
      " 0.72072072 0.72372372 0.72672673 0.72972973 0.73273273 0.73573574\n",
      " 0.73873874 0.74174174 0.74474474 0.74774775 0.75075075 0.75375375\n",
      " 0.75675676 0.75975976 0.76276276 0.76576577 0.76876877 0.77177177\n",
      " 0.77477477 0.77777778 0.78078078 0.78378378 0.78678679 0.78978979\n",
      " 0.79279279 0.7957958  0.7987988  0.8018018  0.8048048  0.80780781\n",
      " 0.81081081 0.81381381 0.81681682 0.81981982 0.82282282 0.82582583\n",
      " 0.82882883 0.83183183 0.83483483 0.83783784 0.84084084 0.84384384\n",
      " 0.84684685 0.84984985 0.85285285 0.85585586 0.85885886 0.86186186\n",
      " 0.86486486 0.86786787 0.87087087 0.87387387 0.87687688 0.87987988\n",
      " 0.88288288 0.88588589 0.88888889 0.89189189 0.89489489 0.8978979\n",
      " 0.9009009  0.9039039  0.90690691 0.90990991 0.91291291 0.91591592\n",
      " 0.91891892 0.92192192 0.92492492 0.92792793 0.93093093 0.93393393\n",
      " 0.93693694 0.93993994 0.94294294 0.94594595 0.94894895 0.95195195\n",
      " 0.95495495 0.95795796 0.96096096 0.96396396 0.96696697 0.96996997\n",
      " 0.97297297 0.97597598 0.97897898 0.98198198 0.98498498 0.98798799\n",
      " 0.99099099 0.99399399 0.996997   1.         1.003003   1.00600601\n",
      " 1.00900901 1.01201201 1.01501502 1.01801802 1.02102102 1.02402402\n",
      " 1.02702703 1.03003003 1.03303303 1.03603604 1.03903904 1.04204204\n",
      " 1.04504505 1.04804805 1.05105105 1.05405405 1.05705706 1.06006006\n",
      " 1.06306306 1.06606607 1.06906907 1.07207207 1.07507508 1.07807808\n",
      " 1.08108108 1.08408408 1.08708709 1.09009009 1.09309309 1.0960961\n",
      " 1.0990991  1.1021021  1.10510511 1.10810811 1.11111111 1.11411411\n",
      " 1.11711712 1.12012012 1.12312312 1.12612613 1.12912913 1.13213213\n",
      " 1.13513514 1.13813814 1.14114114 1.14414414 1.14714715 1.15015015\n",
      " 1.15315315 1.15615616 1.15915916 1.16216216 1.16516517 1.16816817\n",
      " 1.17117117 1.17417417 1.17717718 1.18018018 1.18318318 1.18618619\n",
      " 1.18918919 1.19219219 1.1951952  1.1981982  1.2012012  1.2042042\n",
      " 1.20720721 1.21021021 1.21321321 1.21621622 1.21921922 1.22222222\n",
      " 1.22522523 1.22822823 1.23123123 1.23423423 1.23723724 1.24024024\n",
      " 1.24324324 1.24624625 1.24924925 1.25225225 1.25525526 1.25825826\n",
      " 1.26126126 1.26426426 1.26726727 1.27027027 1.27327327 1.27627628\n",
      " 1.27927928 1.28228228 1.28528529 1.28828829 1.29129129 1.29429429\n",
      " 1.2972973  1.3003003  1.3033033  1.30630631 1.30930931 1.31231231\n",
      " 1.31531532 1.31831832 1.32132132 1.32432432 1.32732733 1.33033033\n",
      " 1.33333333 1.33633634 1.33933934 1.34234234 1.34534535 1.34834835\n",
      " 1.35135135 1.35435435 1.35735736 1.36036036 1.36336336 1.36636637\n",
      " 1.36936937 1.37237237 1.37537538 1.37837838 1.38138138 1.38438438\n",
      " 1.38738739 1.39039039 1.39339339 1.3963964  1.3993994  1.4024024\n",
      " 1.40540541 1.40840841 1.41141141 1.41441441 1.41741742 1.42042042\n",
      " 1.42342342 1.42642643 1.42942943 1.43243243 1.43543544 1.43843844\n",
      " 1.44144144 1.44444444 1.44744745 1.45045045 1.45345345 1.45645646\n",
      " 1.45945946 1.46246246 1.46546547 1.46846847 1.47147147 1.47447447\n",
      " 1.47747748 1.48048048 1.48348348 1.48648649 1.48948949 1.49249249\n",
      " 1.4954955  1.4984985  1.5015015  1.5045045  1.50750751 1.51051051\n",
      " 1.51351351 1.51651652 1.51951952 1.52252252 1.52552553 1.52852853\n",
      " 1.53153153 1.53453453 1.53753754 1.54054054 1.54354354 1.54654655\n",
      " 1.54954955 1.55255255 1.55555556 1.55855856 1.56156156 1.56456456\n",
      " 1.56756757 1.57057057 1.57357357 1.57657658 1.57957958 1.58258258\n",
      " 1.58558559 1.58858859 1.59159159 1.59459459 1.5975976  1.6006006\n",
      " 1.6036036  1.60660661 1.60960961 1.61261261 1.61561562 1.61861862\n",
      " 1.62162162 1.62462462 1.62762763 1.63063063 1.63363363 1.63663664\n",
      " 1.63963964 1.64264264 1.64564565 1.64864865 1.65165165 1.65465465\n",
      " 1.65765766 1.66066066 1.66366366 1.66666667 1.66966967 1.67267267\n",
      " 1.67567568 1.67867868 1.68168168 1.68468468 1.68768769 1.69069069\n",
      " 1.69369369 1.6966967  1.6996997  1.7027027  1.70570571 1.70870871\n",
      " 1.71171171 1.71471471 1.71771772 1.72072072 1.72372372 1.72672673\n",
      " 1.72972973 1.73273273 1.73573574 1.73873874 1.74174174 1.74474474\n",
      " 1.74774775 1.75075075 1.75375375 1.75675676 1.75975976 1.76276276\n",
      " 1.76576577 1.76876877 1.77177177 1.77477477 1.77777778 1.78078078\n",
      " 1.78378378 1.78678679 1.78978979 1.79279279 1.7957958  1.7987988\n",
      " 1.8018018  1.8048048  1.80780781 1.81081081 1.81381381 1.81681682\n",
      " 1.81981982 1.82282282 1.82582583 1.82882883 1.83183183 1.83483483\n",
      " 1.83783784 1.84084084 1.84384384 1.84684685 1.84984985 1.85285285\n",
      " 1.85585586 1.85885886 1.86186186 1.86486486 1.86786787 1.87087087\n",
      " 1.87387387 1.87687688 1.87987988 1.88288288 1.88588589 1.88888889\n",
      " 1.89189189 1.89489489 1.8978979  1.9009009  1.9039039  1.90690691\n",
      " 1.90990991 1.91291291 1.91591592 1.91891892 1.92192192 1.92492492\n",
      " 1.92792793 1.93093093 1.93393393 1.93693694 1.93993994 1.94294294\n",
      " 1.94594595 1.94894895 1.95195195 1.95495495 1.95795796 1.96096096\n",
      " 1.96396396 1.96696697 1.96996997 1.97297297 1.97597598 1.97897898\n",
      " 1.98198198 1.98498498 1.98798799 1.99099099 1.99399399 1.996997\n",
      " 2.         2.003003   2.00600601 2.00900901 2.01201201 2.01501502\n",
      " 2.01801802 2.02102102 2.02402402 2.02702703 2.03003003 2.03303303\n",
      " 2.03603604 2.03903904 2.04204204 2.04504505 2.04804805 2.05105105\n",
      " 2.05405405 2.05705706 2.06006006 2.06306306 2.06606607 2.06906907\n",
      " 2.07207207 2.07507508 2.07807808 2.08108108 2.08408408 2.08708709\n",
      " 2.09009009 2.09309309 2.0960961  2.0990991  2.1021021  2.10510511\n",
      " 2.10810811 2.11111111 2.11411411 2.11711712 2.12012012 2.12312312\n",
      " 2.12612613 2.12912913 2.13213213 2.13513514 2.13813814 2.14114114\n",
      " 2.14414414 2.14714715 2.15015015 2.15315315 2.15615616 2.15915916\n",
      " 2.16216216 2.16516517 2.16816817 2.17117117 2.17417417 2.17717718\n",
      " 2.18018018 2.18318318 2.18618619 2.18918919 2.19219219 2.1951952\n",
      " 2.1981982  2.2012012  2.2042042  2.20720721 2.21021021 2.21321321\n",
      " 2.21621622 2.21921922 2.22222222 2.22522523 2.22822823 2.23123123\n",
      " 2.23423423 2.23723724 2.24024024 2.24324324 2.24624625 2.24924925\n",
      " 2.25225225 2.25525526 2.25825826 2.26126126 2.26426426 2.26726727\n",
      " 2.27027027 2.27327327 2.27627628 2.27927928 2.28228228 2.28528529\n",
      " 2.28828829 2.29129129 2.29429429 2.2972973  2.3003003  2.3033033\n",
      " 2.30630631 2.30930931 2.31231231 2.31531532 2.31831832 2.32132132\n",
      " 2.32432432 2.32732733 2.33033033 2.33333333 2.33633634 2.33933934\n",
      " 2.34234234 2.34534535 2.34834835 2.35135135 2.35435435 2.35735736\n",
      " 2.36036036 2.36336336 2.36636637 2.36936937 2.37237237 2.37537538\n",
      " 2.37837838 2.38138138 2.38438438 2.38738739 2.39039039 2.39339339\n",
      " 2.3963964  2.3993994  2.4024024  2.40540541 2.40840841 2.41141141\n",
      " 2.41441441 2.41741742 2.42042042 2.42342342 2.42642643 2.42942943\n",
      " 2.43243243 2.43543544 2.43843844 2.44144144 2.44444444 2.44744745\n",
      " 2.45045045 2.45345345 2.45645646 2.45945946 2.46246246 2.46546547\n",
      " 2.46846847 2.47147147 2.47447447 2.47747748 2.48048048 2.48348348\n",
      " 2.48648649 2.48948949 2.49249249 2.4954955  2.4984985  2.5015015\n",
      " 2.5045045  2.50750751 2.51051051 2.51351351 2.51651652 2.51951952\n",
      " 2.52252252 2.52552553 2.52852853 2.53153153 2.53453453 2.53753754\n",
      " 2.54054054 2.54354354 2.54654655 2.54954955 2.55255255 2.55555556\n",
      " 2.55855856 2.56156156 2.56456456 2.56756757 2.57057057 2.57357357\n",
      " 2.57657658 2.57957958 2.58258258 2.58558559 2.58858859 2.59159159\n",
      " 2.59459459 2.5975976  2.6006006  2.6036036  2.60660661 2.60960961\n",
      " 2.61261261 2.61561562 2.61861862 2.62162162 2.62462462 2.62762763\n",
      " 2.63063063 2.63363363 2.63663664 2.63963964 2.64264264 2.64564565\n",
      " 2.64864865 2.65165165 2.65465465 2.65765766 2.66066066 2.66366366\n",
      " 2.66666667 2.66966967 2.67267267 2.67567568 2.67867868 2.68168168\n",
      " 2.68468468 2.68768769 2.69069069 2.69369369 2.6966967  2.6996997\n",
      " 2.7027027  2.70570571 2.70870871 2.71171171 2.71471471 2.71771772\n",
      " 2.72072072 2.72372372 2.72672673 2.72972973 2.73273273 2.73573574\n",
      " 2.73873874 2.74174174 2.74474474 2.74774775 2.75075075 2.75375375\n",
      " 2.75675676 2.75975976 2.76276276 2.76576577 2.76876877 2.77177177\n",
      " 2.77477477 2.77777778 2.78078078 2.78378378 2.78678679 2.78978979\n",
      " 2.79279279 2.7957958  2.7987988  2.8018018  2.8048048  2.80780781\n",
      " 2.81081081 2.81381381 2.81681682 2.81981982 2.82282282 2.82582583\n",
      " 2.82882883 2.83183183 2.83483483 2.83783784 2.84084084 2.84384384\n",
      " 2.84684685 2.84984985 2.85285285 2.85585586 2.85885886 2.86186186\n",
      " 2.86486486 2.86786787 2.87087087 2.87387387 2.87687688 2.87987988\n",
      " 2.88288288 2.88588589 2.88888889 2.89189189 2.89489489 2.8978979\n",
      " 2.9009009  2.9039039  2.90690691 2.90990991 2.91291291 2.91591592\n",
      " 2.91891892 2.92192192 2.92492492 2.92792793 2.93093093 2.93393393\n",
      " 2.93693694 2.93993994 2.94294294 2.94594595 2.94894895 2.95195195\n",
      " 2.95495495 2.95795796 2.96096096 2.96396396 2.96696697 2.96996997\n",
      " 2.97297297 2.97597598 2.97897898 2.98198198 2.98498498 2.98798799\n",
      " 2.99099099 2.99399399 2.996997   3.        ]\n"
     ]
    }
   ],
   "source": [
    "ceros = np.zeros((3, 4))\n",
    "print(\"Matriz de ceros (3x4):\")\n",
    "print(ceros)\n",
    "\n",
    "unos = np.ones((2, 5))\n",
    "print(\"Matriz de unos (2x5):\")\n",
    "print(unos)\n",
    "\n",
    "rango = np.arange(0, 10, 2)\n",
    "print(\"Arreglo creado con np.arange:\", rango)\n",
    "\n",
    "lin=np.linspace(0,3,1000)\n",
    "print(\"Arreglo creado con np.linspace:\", lin)"
   ]
  },
  {
   "cell_type": "markdown",
   "metadata": {},
   "source": [
    "### Reshape de Arreglos\n",
    "\n",
    "Podemos cambiar la forma de un arreglo siempre que el número de elementos sea el mismo usando `reshape()`.\n",
    "Esto nos permite reorganizar los datos sin perder información.\n",
    "\n",
    "**Ejercicio Práctico:**\n",
    "- Tome un arreglo unidimensional y conviértalo en una matriz de forma 2x3."
   ]
  },
  {
   "cell_type": "code",
   "execution_count": 36,
   "metadata": {},
   "outputs": [
    {
     "name": "stdout",
     "output_type": "stream",
     "text": [
      "Arreglo reshaped (2x3):\n",
      "[[1 2 3]\n",
      " [4 5 6]]\n",
      "[[[1]\n",
      "  [2]\n",
      "  [3]]\n",
      "\n",
      " [[4]\n",
      "  [5]\n",
      "  [6]]]\n",
      "[[ 0.          1.11111111]\n",
      " [ 2.22222222  3.33333333]\n",
      " [ 4.44444444  5.55555556]\n",
      " [ 6.66666667  7.77777778]\n",
      " [ 8.88888889 10.        ]]\n"
     ]
    }
   ],
   "source": [
    "arreglo_original = np.array([1, 2, 3, 4, 5, 6])\n",
    "arreglo_reshaped = arreglo_original.reshape((2, 3))\n",
    "print(\"Arreglo reshaped (2x3):\")\n",
    "print(arreglo_reshaped)\n",
    "\n",
    "tensor_2 = arreglo_original.reshape((2, 3,1))\n",
    "print(tensor_2)\n",
    "\n",
    "\n",
    "arreglo_2= np.linspace(0,10,10)\n",
    "arreglo_reshaped_2 = arreglo_2.reshape((5, 2))\n",
    "print(arreglo_reshaped_2)"
   ]
  },
  {
   "cell_type": "markdown",
   "metadata": {},
   "source": [
    "### Operaciones Matemáticas sobre Arreglos"
   ]
  },
  {
   "cell_type": "markdown",
   "metadata": {},
   "source": [
    "Las operaciones en NumPy se realizan sobre cada elemento del arreglo de manera vectorizada, lo cual es mucho más eficiente que usar bucles.\n",
    "\n",
    "**Ejercicio para los estudiantes:**\n",
    "- Realice una suma entre dos arreglos unidimensionales."
   ]
  },
  {
   "cell_type": "code",
   "execution_count": 43,
   "metadata": {},
   "outputs": [
    {
     "name": "stdout",
     "output_type": "stream",
     "text": [
      "Suma de arreglos a y b: [5 7 9]\n",
      "[3 6 9]\n"
     ]
    }
   ],
   "source": [
    "a = np.array([1, 2, 3])\n",
    "b = np.array([4, 5, 6])\n",
    "suma = a + b\n",
    "print(\"Suma de arreglos a y b:\", suma)\n",
    "\n",
    "\n",
    "sc=a*3\n",
    "print(sc)"
   ]
  },
  {
   "cell_type": "markdown",
   "metadata": {},
   "source": [
    "### Indexación y Slicing\n",
    "La indexación y el slicing son técnicas fundamentales para seleccionar y trabajar con subconjuntos de datos dentro de un arreglo.\n",
    "\n",
    "**Ejercicio para los estudiantes:**\n",
    "- Cambiar los índices para acceder a diferentes elementos del arreglo."
   ]
  },
  {
   "cell_type": "code",
   "execution_count": 54,
   "metadata": {},
   "outputs": [
    {
     "name": "stdout",
     "output_type": "stream",
     "text": [
      "Segundo elemento del arreglo: 2\n",
      "Sub-arreglo del original: [2 3 4]\n",
      "[ 0.   7.5 15.  22.5 30. ]\n",
      "Se imprimen la posicion 1,2,3 [ 7.5 15.  22.5]\n"
     ]
    }
   ],
   "source": [
    "print(\"Segundo elemento del arreglo:\", mi_arreglo[1])\n",
    "print(\"Sub-arreglo del original:\", mi_arreglo[1:4])\n",
    "\n",
    "\n",
    "v_1=np.linspace(0,30,5)\n",
    "print(v_1)\n",
    "\n",
    "print(\"Se imprimen la posicion 1,2,3\",v_1[1:4]) #n-1 siendo n el ultimo valor del rango"
   ]
  },
  {
   "cell_type": "markdown",
   "metadata": {},
   "source": [
    "### Ejercicio Final para los Estudiantes\n",
    "- Cree un arreglo multidimensional que represente los datos de población de tres ciudades durante 5 años.\n",
    "- Utilice `np.mean()` para calcular el promedio de la población de cada ciudad durante los 5 años."
   ]
  },
  {
   "cell_type": "code",
   "execution_count": 62,
   "metadata": {},
   "outputs": [
    {
     "name": "stdout",
     "output_type": "stream",
     "text": [
      "[[500000 520000 540000 560000 580000]\n",
      " [300000 310000 320000 330000 340000]\n",
      " [700000 710000 720000 730000 740000]]\n",
      "Promedio de población de cada ciudad durante 5 años:\n",
      "[540000. 320000. 720000.]\n"
     ]
    }
   ],
   "source": [
    "# Crear el arreglo multidimensional de población (3 ciudades, 5 años)\n",
    "poblacion = np.array([[500000, 520000, 540000, 560000, 580000],  # Ciudad 1\n",
    "                      [300000, 310000, 320000, 330000, 340000],  # Ciudad 2\n",
    "                      [700000, 710000, 720000, 730000, 740000]]) # Ciudad 3\n",
    "\n",
    "# Calcular el promedio de la población de cada ciudad durante los 5 años\n",
    "promedio_ciudad = np.mean(poblacion,axis=1)\n",
    "\n",
    "print(poblacion)\n",
    "\n",
    "# Mostrar los resultados sin usar un bucle for\n",
    "print(\"Promedio de población de cada ciudad durante 5 años:\")\n",
    "print(promedio_ciudad)"
   ]
  },
  {
   "cell_type": "code",
   "execution_count": 70,
   "metadata": {},
   "outputs": [
    {
     "name": "stdout",
     "output_type": "stream",
     "text": [
      "Promedio de población de cada ciudad durante 5 años: [540. 470. 340.]\n"
     ]
    }
   ],
   "source": [
    "\n",
    "\n",
    "# Datos de población (en miles) para 3 ciudades durante 5 años\n",
    "poblacion = np.array([\n",
    "    [500, 520, 540, 560, 580],  # Ciudad 1\n",
    "    [450, 460, 470, 480, 490],  # Ciudad 2\n",
    "    [300, 320, 340, 360, 380]   # Ciudad 3\n",
    "])\n",
    "\n",
    "# Calcular el promedio de la población de cada ciudad a lo largo de los 5 años\n",
    "promedio_poblacion = np.mean(poblacion, axis=1)\n",
    "\n",
    "print(\"Promedio de población de cada ciudad durante 5 años:\", promedio_poblacion)"
   ]
  },
  {
   "cell_type": "markdown",
   "metadata": {},
   "source": [
    "### Reflexión para Hacer en Clase\n",
    "- Utilicen NumPy para calcular la media y el valor máximo del arreglo creado.\n",
    "- Reflexionen sobre qué significa cada cálculo y por qué sería importante en un contexto real (e.g., análisis de datos poblacionales).\n",
    "\n",
    "\n",
    "Pueden ver cómo NumPy hace que las operaciones sean rápidas y eficientes, lo cual es clave en el análisis de grandes volúmenes de datos."
   ]
  }
 ],
 "metadata": {
  "kernelspec": {
   "display_name": "program_2",
   "language": "python",
   "name": "python3"
  },
  "language_info": {
   "codemirror_mode": {
    "name": "ipython",
    "version": 3
   },
   "file_extension": ".py",
   "mimetype": "text/x-python",
   "name": "python",
   "nbconvert_exporter": "python",
   "pygments_lexer": "ipython3",
   "version": "3.12.7"
  }
 },
 "nbformat": 4,
 "nbformat_minor": 2
}
