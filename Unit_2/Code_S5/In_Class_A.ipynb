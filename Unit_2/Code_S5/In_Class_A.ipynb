{
 "cells": [
  {
   "cell_type": "markdown",
   "metadata": {},
   "source": [
    "# Semana 5: Introducción a Arreglos Multidimensionales con NumPy\n",
    "\n",
    "### Importar la Librería NumPy\n",
    "\n",
    "Para empezar a trabajar con NumPy, necesitamos importar la librería. NumPy es esencial para realizar cálculos matemáticos y manipular arreglos en Python.\n",
    "Asegúrate de que tienes NumPy instalado antes de ejecutarlo."
   ]
  },
  {
   "cell_type": "code",
   "execution_count": 2,
   "metadata": {},
   "outputs": [],
   "source": [
    "import numpy as np"
   ]
  },
  {
   "cell_type": "markdown",
   "metadata": {},
   "source": [
    "### Creación de Arreglos Unidimensionales\n",
    "Vamos a crear un arreglo unidimensional sencillo y explorar sus propiedades.\n",
    "Este tipo de arreglo se conoce como un vector y es la base para trabajar con arreglos más complejos.\n",
    "\n",
    "**Pregunta a los estudiantes:**\n",
    "- ¿Qué creen que representa cada índice en el arreglo?"
   ]
  },
  {
   "cell_type": "code",
   "execution_count": 8,
   "metadata": {},
   "outputs": [
    {
     "name": "stdout",
     "output_type": "stream",
     "text": [
      "Mi arreglo unidimensional: [1 2 3 4 5]\n",
      "[2 4 6]\n"
     ]
    },
    {
     "data": {
      "text/plain": [
       "numpy.ndarray"
      ]
     },
     "execution_count": 8,
     "metadata": {},
     "output_type": "execute_result"
    }
   ],
   "source": [
    "mi_arreglo = np.array([1, 2, 3, 4, 5])\n",
    "print(\"Mi arreglo unidimensional:\", mi_arreglo)\n",
    "\n",
    "arr_2=np.array([2,4,6])\n",
    "print(arr_2)\n",
    "\n",
    "type(arr_2)\n"
   ]
  },
  {
   "cell_type": "code",
   "execution_count": 7,
   "metadata": {},
   "outputs": [
    {
     "data": {
      "text/plain": [
       "list"
      ]
     },
     "execution_count": 7,
     "metadata": {},
     "output_type": "execute_result"
    }
   ],
   "source": [
    "\n",
    "type([2,4,6])"
   ]
  },
  {
   "cell_type": "markdown",
   "metadata": {},
   "source": [
    "### Creación de Arreglos Multidimensionales\n",
    "\n",
    "Ahora crearemos una matriz bidimensional, que tiene dos filas y tres columnas. Este tipo de arreglo es conocido como una matriz y se usa comúnmente para almacenar datos tabulares.\n"
   ]
  },
  {
   "cell_type": "code",
   "execution_count": 10,
   "metadata": {},
   "outputs": [
    {
     "name": "stdout",
     "output_type": "stream",
     "text": [
      "Matriz bidimensional:\n",
      "[[1 2 3]\n",
      " [4 5 6]]\n"
     ]
    },
    {
     "data": {
      "text/plain": [
       "numpy.ndarray"
      ]
     },
     "execution_count": 10,
     "metadata": {},
     "output_type": "execute_result"
    }
   ],
   "source": [
    "matriz = np.array([[1, 2, 3], [4, 5, 6]])\n",
    "print(\"Matriz bidimensional:\")\n",
    "print(matriz)\n",
    "\n",
    "type(matriz)"
   ]
  },
  {
   "cell_type": "markdown",
   "metadata": {},
   "source": [
    "\n",
    "**Ejercicio para los estudiantes:**\n",
    "- Cree una matriz similar con sus propios valores."
   ]
  },
  {
   "cell_type": "code",
   "execution_count": 14,
   "metadata": {},
   "outputs": [
    {
     "name": "stdout",
     "output_type": "stream",
     "text": [
      "[[ 4  5  6]\n",
      " [10 20 30]]\n",
      "No es una matris es una lista de listas [[1, 2], [3, 4]]\n"
     ]
    }
   ],
   "source": [
    "matriz_p=np.array([[4,5,6],[10,20,30]])\n",
    "print(matriz_p)\n",
    "\n",
    "list_p=[[1,2],[3,4]]\n",
    "print(f\"No es una matris es una lista de listas {list_p}\")"
   ]
  },
  {
   "cell_type": "markdown",
   "metadata": {},
   "source": [
    "### Tipo de Datos en NumPy\n",
    "\n",
    "Podemos definir el tipo de dato en nuestros arreglos. Por defecto, NumPy asigna el tipo según los elementos del arreglo, pero a veces es útil especificar el tipo manualmente para optimizar el uso de memoria o asegurar compatibilidad.\n",
    "\n",
    "**Pregunta para los estudiantes:**\n",
    "- ¿Por qué sería útil especificar el tipo de dato?"
   ]
  },
  {
   "cell_type": "code",
   "execution_count": 23,
   "metadata": {},
   "outputs": [
    {
     "name": "stdout",
     "output_type": "stream",
     "text": [
      "Arreglo con tipo de dato flotante: [1.5 2.3 3.1]\n",
      "Arreglo con tipo de dato flotante 16  [1.5 2.3 3.1]\n"
     ]
    }
   ],
   "source": [
    "arreglo_flotante = np.array([1.5, 2.3, 3.1], dtype=np.float32)\n",
    "print(\"Arreglo con tipo de dato flotante:\", arreglo_flotante)\n",
    "\n",
    "arreglo_flotante_1 = np.array([1.5, 2.3, 3.1], dtype=np.float16)\n",
    "print(\"Arreglo con tipo de dato flotante 16 \", arreglo_flotante_1)"
   ]
  },
  {
   "cell_type": "code",
   "execution_count": 30,
   "metadata": {},
   "outputs": [
    {
     "name": "stdout",
     "output_type": "stream",
     "text": [
      "[False  True  True]\n",
      "[0 2 3]\n"
     ]
    }
   ],
   "source": [
    "arreglo_flotante_2 = np.array([0, 2.3, 3.1], dtype=np.bool)\n",
    "print(arreglo_flotante_2)\n",
    "\n",
    "arreglo_flotante_3 = np.array([0, 2.3, 3.1], dtype=np.int32)\n",
    "print(arreglo_flotante_3)"
   ]
  },
  {
   "cell_type": "markdown",
   "metadata": {},
   "source": [
    "### Propiedades de un Arreglo\n",
    "\n",
    "Vamos a explorar algunas propiedades útiles de los arreglos en NumPy:\n",
    "- `shape`: Nos indica la forma del arreglo, es decir, el número de elementos en cada dimensión.\n",
    "- `ndim`: Nos devuelve el número de dimensiones del arreglo.\n",
    "\n",
    "\n"
   ]
  },
  {
   "cell_type": "code",
   "execution_count": 36,
   "metadata": {},
   "outputs": [
    {
     "name": "stdout",
     "output_type": "stream",
     "text": [
      "Forma del arreglo unidimensional: (5,)\n",
      "Dimensiones de la matriz: 1\n"
     ]
    }
   ],
   "source": [
    "mi_arreglo = np.array([1, 2, 3, 4, 5])\n",
    "\n",
    "mamatriz_p=np.array([[4,5,6],[10,20,30]])\n",
    "\n",
    "print(\"Forma del arreglo unidimensional:\", mi_arreglo.shape)\n",
    "print(\"Dimensiones de la matriz:\", mi_arreglo.ndim)\n",
    "\n",
    "\n"
   ]
  },
  {
   "cell_type": "markdown",
   "metadata": {},
   "source": [
    "**Ejercicio para los estudiantes:**\n",
    "- Verifique las propiedades para la matriz que crearon."
   ]
  },
  {
   "cell_type": "code",
   "execution_count": 35,
   "metadata": {},
   "outputs": [
    {
     "name": "stdout",
     "output_type": "stream",
     "text": [
      "Forma de la matriz  (2, 3)\n",
      "Dimensiones de la matriz: 2\n"
     ]
    }
   ],
   "source": [
    "\n",
    "print(\"Forma de la matriz \", mamatriz_p.shape)\n",
    "print(\"Dimensiones de la matriz:\", mamatriz_p.ndim)"
   ]
  },
  {
   "cell_type": "markdown",
   "metadata": {},
   "source": [
    "### Funciones para Crear Arreglos Rápidamente"
   ]
  },
  {
   "cell_type": "markdown",
   "metadata": {},
   "source": [
    "NumPy proporciona funciones útiles para crear arreglos específicos de manera rápida:\n",
    "- `np.zeros()`: Crea un arreglo lleno de ceros.\n",
    "- `np.ones()`: Crea un arreglo lleno de unos.\n",
    "- `np.arange()`: Genera un rango de números.\n",
    "\n",
    "**Pregunta para los estudiantes:**\n",
    "- ¿Para qué podría ser útil un arreglo de ceros?"
   ]
  },
  {
   "cell_type": "code",
   "execution_count": 53,
   "metadata": {},
   "outputs": [
    {
     "name": "stdout",
     "output_type": "stream",
     "text": [
      "Matriz de ceros (3x4):\n",
      "[[0. 0. 0. 0.]\n",
      " [0. 0. 0. 0.]\n",
      " [0. 0. 0. 0.]]\n",
      "2\n",
      "Matriz de unos (2x5):\n",
      "[[1. 1. 1. 1. 1.]\n",
      " [1. 1. 1. 1. 1.]]\n",
      "Arreglo creado con np.arange: [0 2 4 6 8]\n",
      "Arreglo creado con np.linspace: [0.         0.03030303 0.06060606 0.09090909 0.12121212 0.15151515\n",
      " 0.18181818 0.21212121 0.24242424 0.27272727 0.3030303  0.33333333\n",
      " 0.36363636 0.39393939 0.42424242 0.45454545 0.48484848 0.51515152\n",
      " 0.54545455 0.57575758 0.60606061 0.63636364 0.66666667 0.6969697\n",
      " 0.72727273 0.75757576 0.78787879 0.81818182 0.84848485 0.87878788\n",
      " 0.90909091 0.93939394 0.96969697 1.         1.03030303 1.06060606\n",
      " 1.09090909 1.12121212 1.15151515 1.18181818 1.21212121 1.24242424\n",
      " 1.27272727 1.3030303  1.33333333 1.36363636 1.39393939 1.42424242\n",
      " 1.45454545 1.48484848 1.51515152 1.54545455 1.57575758 1.60606061\n",
      " 1.63636364 1.66666667 1.6969697  1.72727273 1.75757576 1.78787879\n",
      " 1.81818182 1.84848485 1.87878788 1.90909091 1.93939394 1.96969697\n",
      " 2.         2.03030303 2.06060606 2.09090909 2.12121212 2.15151515\n",
      " 2.18181818 2.21212121 2.24242424 2.27272727 2.3030303  2.33333333\n",
      " 2.36363636 2.39393939 2.42424242 2.45454545 2.48484848 2.51515152\n",
      " 2.54545455 2.57575758 2.60606061 2.63636364 2.66666667 2.6969697\n",
      " 2.72727273 2.75757576 2.78787879 2.81818182 2.84848485 2.87878788\n",
      " 2.90909091 2.93939394 2.96969697 3.        ]\n"
     ]
    },
    {
     "data": {
      "text/plain": [
       "(100,)"
      ]
     },
     "execution_count": 53,
     "metadata": {},
     "output_type": "execute_result"
    }
   ],
   "source": [
    "ceros = np.zeros((3, 4))\n",
    "print(\"Matriz de ceros (3x4):\")\n",
    "print(ceros)\n",
    "\n",
    "print(ceros.ndim)\n",
    "\n",
    "unos = np.ones((2, 5))\n",
    "print(\"Matriz de unos (2x5):\")\n",
    "print(unos)\n",
    "\n",
    "rango = np.arange(0, 10, 2)\n",
    "print(\"Arreglo creado con np.arange:\", rango)\n",
    "\n",
    "\n",
    "lins=np.linspace(0,3,100)\n",
    "\n",
    "print(\"Arreglo creado con np.linspace:\", lins)\n",
    "\n",
    "lins.shape"
   ]
  },
  {
   "cell_type": "markdown",
   "metadata": {},
   "source": [
    "### Reshape de Arreglos\n",
    "\n",
    "Podemos cambiar la forma de un arreglo siempre que el número de elementos sea el mismo usando `reshape()`.\n",
    "Esto nos permite reorganizar los datos sin perder información.\n",
    "\n",
    "**Ejercicio Práctico:**\n",
    "- Tome un arreglo unidimensional y conviértalo en una matriz de forma 2x3."
   ]
  },
  {
   "cell_type": "code",
   "execution_count": 55,
   "metadata": {},
   "outputs": [
    {
     "name": "stdout",
     "output_type": "stream",
     "text": [
      "Arreglo reshaped (2x3):\n",
      "[[[1]\n",
      "  [2]\n",
      "  [3]]\n",
      "\n",
      " [[4]\n",
      "  [5]\n",
      "  [6]]\n",
      "\n",
      " [[7]\n",
      "  [8]\n",
      "  [9]]]\n"
     ]
    },
    {
     "data": {
      "text/plain": [
       "3"
      ]
     },
     "execution_count": 55,
     "metadata": {},
     "output_type": "execute_result"
    }
   ],
   "source": [
    "arreglo_original = np.array([1, 2, 3, 4, 5, 6,7,8,9])\n",
    "arreglo_reshaped = arreglo_original.reshape((3, 3,1))\n",
    "print(\"Arreglo reshaped (2x3):\")\n",
    "print(arreglo_reshaped)\n",
    "\n",
    "arreglo_reshaped.ndim"
   ]
  },
  {
   "cell_type": "markdown",
   "metadata": {},
   "source": [
    "### Operaciones Matemáticas sobre Arreglos"
   ]
  },
  {
   "cell_type": "markdown",
   "metadata": {},
   "source": [
    "Las operaciones en NumPy se realizan sobre cada elemento del arreglo de manera vectorizada, lo cual es mucho más eficiente que usar bucles.\n",
    "\n",
    "**Ejercicio para los estudiantes:**\n",
    "- Realice una suma entre dos arreglos unidimensionales."
   ]
  },
  {
   "cell_type": "code",
   "execution_count": 58,
   "metadata": {},
   "outputs": [
    {
     "name": "stdout",
     "output_type": "stream",
     "text": [
      "Suma de arreglos a y b: [-5 -7 -9]\n"
     ]
    }
   ],
   "source": [
    "a = np.array([-1, -2, -3])\n",
    "b = np.array([4, 5, 6])\n",
    "suma = a - b\n",
    "print(\"Suma de arreglos a y b:\", suma)"
   ]
  },
  {
   "cell_type": "markdown",
   "metadata": {},
   "source": [
    "### Indexación y Slicing\n",
    "La indexación y el slicing son técnicas fundamentales para seleccionar y trabajar con subconjuntos de datos dentro de un arreglo.\n",
    "\n",
    "**Ejercicio para los estudiantes:**\n",
    "- Cambiar los índices para acceder a diferentes elementos del arreglo."
   ]
  },
  {
   "cell_type": "code",
   "execution_count": 70,
   "metadata": {},
   "outputs": [
    {
     "name": "stdout",
     "output_type": "stream",
     "text": [
      "[ 0  5 10 15]\n",
      "Primer elemento del arreglo: 0\n",
      "Ultimo elemento del arreglo: 15\n",
      "Sub-arreglo del original: [ 0  5 10]\n"
     ]
    }
   ],
   "source": [
    "arr_3=np.arange(0,20,5)\n",
    "print(arr_3)\n",
    "\n",
    "\n",
    "print(\"Primer elemento del arreglo:\", arr_3[0])\n",
    "print(\"Ultimo elemento del arreglo:\", arr_3[-1]) #Todo: si se desconoce la longitud del vector\n",
    "print(\"Sub-arreglo del original:\", arr_3[0:3])  #Todo [n0,n-1] toma en cuenta los datos hasta el anterior numero que cierra el corchete"
   ]
  },
  {
   "cell_type": "markdown",
   "metadata": {},
   "source": [
    "### Ejercicio Final para los Estudiantes\n",
    "- Cree un arreglo multidimensional que represente los datos de población de tres ciudades durante 5 años.\n",
    "- Utilice `np.mean()` para calcular el promedio de la población de cada ciudad durante los 5 años."
   ]
  },
  {
   "cell_type": "code",
   "execution_count": 74,
   "metadata": {},
   "outputs": [
    {
     "name": "stdout",
     "output_type": "stream",
     "text": [
      "(3, 5)\n",
      "Promedio de población de cada ciudad : [560161 354729 355999]\n"
     ]
    }
   ],
   "source": [
    "ciudades= np.array([\n",
    "    [340987, 673470, 563800, 345550, 877000],  #1\n",
    "    [134670, 102000, 975236, 105000, 456740],  #2\n",
    "    [235740, 202000, 324678, 672456, 345124]  #3\n",
    "])\n",
    "\n",
    "print(ciudades.shape)\n",
    "# Calcular el promedio de la población \n",
    "promedio_ciudad1 = np.mean(ciudades[0])\n",
    "promedio_ciudad2 = np.mean(ciudades[1])\n",
    "promedio_ciudad3 = np.mean(ciudades[2])\n",
    "# Agrupar los resultados en una lista\n",
    "promedios = np.array([promedio_ciudad1, promedio_ciudad2, promedio_ciudad3], dtype=np.int32)\n",
    "# Mostrar los resultados\n",
    "print(\"Promedio de población de cada ciudad :\", promedios)"
   ]
  },
  {
   "cell_type": "code",
   "execution_count": 77,
   "metadata": {},
   "outputs": [
    {
     "name": "stdout",
     "output_type": "stream",
     "text": [
      "[[100000 105000 110000 115000 120000]\n",
      " [200000 205000 210000 215000 220000]\n",
      " [300000 305000 310000 315000 320000]]\n",
      "Promedio de población en 5 años para cada ciudad: [110000. 210000. 310000.]\n"
     ]
    }
   ],
   "source": [
    "# Crear un arreglo multidimensional para la población de tres ciudades durante 5 años\n",
    "# Los datos son valores de ejemplo para ilustrar el código\n",
    "poblacion = np.array([\n",
    "    [100000, 105000, 110000, 115000, 120000],  # Ciudad Ambato\n",
    "    [200000, 205000, 210000, 215000, 220000],  # Ciudad Cuenca\n",
    "    [300000, 305000, 310000, 315000, 320000]   # Ciudad Quito\n",
    "])\n",
    "\n",
    "print(poblacion)\n",
    "# Calcular el promedio de la población durante 5 años para cada ciudad\n",
    "promedio_poblacion = np.mean(poblacion, axis=1)\n",
    "print(\"Promedio de población en 5 años para cada ciudad:\", promedio_poblacion)"
   ]
  },
  {
   "cell_type": "markdown",
   "metadata": {},
   "source": [
    "### Reflexión para Hacer en Clase\n",
    "- Utilicen NumPy para calcular la media y el valor máximo del arreglo creado.\n",
    "- Reflexionen sobre qué significa cada cálculo y por qué sería importante en un contexto real (e.g., análisis de datos poblacionales).\n",
    "\n",
    "\n",
    "Pueden ver cómo NumPy hace que las operaciones sean rápidas y eficientes, lo cual es clave en el análisis de grandes volúmenes de datos."
   ]
  },
  {
   "cell_type": "code",
   "execution_count": null,
   "metadata": {},
   "outputs": [],
   "source": []
  }
 ],
 "metadata": {
  "kernelspec": {
   "display_name": "program_2",
   "language": "python",
   "name": "python3"
  },
  "language_info": {
   "codemirror_mode": {
    "name": "ipython",
    "version": 3
   },
   "file_extension": ".py",
   "mimetype": "text/x-python",
   "name": "python",
   "nbconvert_exporter": "python",
   "pygments_lexer": "ipython3",
   "version": "3.12.7"
  }
 },
 "nbformat": 4,
 "nbformat_minor": 2
}
