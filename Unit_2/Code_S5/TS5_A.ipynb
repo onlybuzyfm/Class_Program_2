{
 "cells": [
  {
   "cell_type": "markdown",
   "metadata": {},
   "source": [
    "### Introducción\n",
    "En este notebook, realizaremos el preprocesamiento de datos utilizando NumPy. Aprenderemos cómo identificar y manejar valores faltantes, eliminar duplicados, detectar valores atípicos (outliers), y normalizar nuestros datos. El preprocesamiento es un paso crucial en la limpieza de datos antes de aplicar modelos de análisis o machine learning."
   ]
  },
  {
   "cell_type": "code",
   "execution_count": 2,
   "metadata": {},
   "outputs": [],
   "source": [
    "# Importar la librería NumPy\n",
    "import numpy as np"
   ]
  },
  {
   "cell_type": "markdown",
   "metadata": {},
   "source": [
    "### Crear Arreglo con Valores Faltantes\n",
    "Primero, crearemos un arreglo que contiene algunos valores faltantes. Estos valores faltantes serán identificados y reemplazados en los siguientes pasos."
   ]
  },
  {
   "cell_type": "code",
   "execution_count": null,
   "metadata": {},
   "outputs": [
    {
     "name": "stdout",
     "output_type": "stream",
     "text": [
      "Datos con valores faltantes (NaN): [ 1.  2. nan  4.  5. nan  7.]\n"
     ]
    }
   ],
   "source": [
    "datos = np.array([1, 2, np.nan, 4, 5, np.nan, 7])\n",
    "\n",
    "print(\"Datos con valores faltantes (NaN):\", datos)\n"
   ]
  },
  {
   "cell_type": "markdown",
   "metadata": {},
   "source": [
    "### Identificar Valores Faltantes\n",
    "Utilizamos la función `np.isnan()` para encontrar los valores faltantes (`NaN`). Esta función devuelve un arreglo booleano indicando qué elementos son `NaN`.\n"
   ]
  },
  {
   "cell_type": "code",
   "execution_count": 12,
   "metadata": {},
   "outputs": [
    {
     "name": "stdout",
     "output_type": "stream",
     "text": [
      "Valores nulos en el arreglo: [False False  True False False  True False]\n"
     ]
    }
   ],
   "source": [
    "valores_faltantes = np.isnan(datos)\n",
    "print(\"Valores nulos en el arreglo:\", valores_faltantes)"
   ]
  },
  {
   "cell_type": "markdown",
   "metadata": {},
   "source": [
    "### Reemplazar Valores Faltantes\n",
    "Una vez identificados los valores `NaN`, podemos reemplazarlos con la media de los valores no faltantes para mantener la coherencia del dataset.\n",
    "```\n"
   ]
  },
  {
   "cell_type": "code",
   "execution_count": 14,
   "metadata": {},
   "outputs": [
    {
     "name": "stdout",
     "output_type": "stream",
     "text": [
      "Datos con NaN reemplazados por la media: [1.  2.  3.8 4.  5.  3.8 7. ]\n"
     ]
    }
   ],
   "source": [
    "media = np.nanmean(datos)  # Calcula la media sin considerar los NaN\n",
    "datos_reemplazados = np.where(np.isnan(datos), media, datos)\n",
    "print(\"Datos con NaN reemplazados por la media:\", datos_reemplazados)"
   ]
  },
  {
   "cell_type": "code",
   "execution_count": 20,
   "metadata": {},
   "outputs": [
    {
     "name": "stdout",
     "output_type": "stream",
     "text": [
      "[3, nan, 6]\n"
     ]
    }
   ],
   "source": [
    "arr_1=[3 , np.nan, 6]\n",
    "print(arr_1)"
   ]
  },
  {
   "cell_type": "code",
   "execution_count": 21,
   "metadata": {},
   "outputs": [
    {
     "name": "stdout",
     "output_type": "stream",
     "text": [
      "[3.  4.5 6. ]\n",
      "[3. 0. 6.]\n"
     ]
    }
   ],
   "source": [
    "\n",
    "media_1 = np.nanmean(arr_1)\n",
    "\n",
    "arr_fixed = np.where(np.isnan(arr_1),media_1 , arr_1)\n",
    " \n",
    "print(arr_fixed)\n",
    "\n",
    "arr_fixed_2 = np.where(np.isnan(arr_1),0 , arr_1)\n",
    "print(arr_fixed_2)\n",
    " "
   ]
  },
  {
   "cell_type": "markdown",
   "metadata": {},
   "source": [
    "### Eliminar Valores Duplicados\n",
    "A continuación, creamos un nuevo arreglo con valores duplicados y utilizamos `np.unique()` para eliminar dichos duplicados."
   ]
  },
  {
   "cell_type": "code",
   "execution_count": 22,
   "metadata": {},
   "outputs": [
    {
     "name": "stdout",
     "output_type": "stream",
     "text": [
      "Datos sin valores duplicados: [1 2 3 4 5]\n"
     ]
    }
   ],
   "source": [
    "datos_duplicados = np.array([1, 2, 2, 3, 4, 4, 5])\n",
    "datos_unicos = np.unique(datos_duplicados)\n",
    "print(\"Datos sin valores duplicados:\", datos_unicos)"
   ]
  },
  {
   "cell_type": "markdown",
   "metadata": {},
   "source": [
    "### Detectar Valores Atípicos (Outliers)\n",
    "Para identificar valores que se encuentren fuera de un rango aceptable, calculamos la media y la desviación estándar del conjunto de datos y consideramos como outliers aquellos valores que estén a más de 2 desviaciones estándar de la media."
   ]
  },
  {
   "cell_type": "code",
   "execution_count": 40,
   "metadata": {},
   "outputs": [
    {
     "name": "stdout",
     "output_type": "stream",
     "text": [
      "[1.  2.  3.8 4.  5.  3.8 7. ]\n",
      "[]\n",
      "Valores atípicos (outliers): []\n"
     ]
    }
   ],
   "source": [
    "print(datos_reemplazados)\n",
    "\n",
    "media = np.mean(datos_reemplazados)\n",
    "desviacion = np.std(datos_reemplazados)\n",
    "umbral = 2\n",
    "outliers = datos_reemplazados[np.abs(datos_reemplazados - media) > umbral * desviacion]\n",
    "print(outliers)\n",
    "print(\"Valores atípicos (outliers):\", outliers)\n"
   ]
  },
  {
   "cell_type": "markdown",
   "metadata": {},
   "source": [
    "### Normalizar Datos\n",
    "Finalmente, normalizamos los datos para asegurarnos de que todos los valores se encuentren en un rango similar. Esto es útil para evitar que algunos valores con mayor magnitud dominen sobre otros durante el análisis.\n"
   ]
  },
  {
   "cell_type": "code",
   "execution_count": 42,
   "metadata": {},
   "outputs": [
    {
     "name": "stdout",
     "output_type": "stream",
     "text": [
      "1.0\n",
      "7.0\n",
      "Datos normalizados: [0.         0.16666667 0.46666667 0.5        0.66666667 0.46666667\n",
      " 1.        ]\n"
     ]
    }
   ],
   "source": [
    "datos_min = np.min(datos_reemplazados)\n",
    "print(datos_min)\n",
    "datos_max = np.max(datos_reemplazados)\n",
    "print(datos_max)\n",
    "datos_normalizados = (datos_reemplazados - datos_min) / (datos_max - datos_min)\n",
    "print(\"Datos normalizados:\", datos_normalizados)\n"
   ]
  },
  {
   "cell_type": "markdown",
   "metadata": {},
   "source": [
    "### Filtrar Valores Basados en una Condición\n",
    "Podemos filtrar los valores que cumplan con una condición específica, como aquellos que sean mayores a un determinado umbral. En este ejemplo, seleccionamos los valores mayores a 4.\n"
   ]
  },
  {
   "cell_type": "code",
   "execution_count": 44,
   "metadata": {},
   "outputs": [
    {
     "name": "stdout",
     "output_type": "stream",
     "text": [
      "Valores mayores a 4: [2.  3.8 4.  5.  3.8 7. ]\n"
     ]
    }
   ],
   "source": [
    "\n",
    "valores_mayores = datos_reemplazados[datos_reemplazados > 1]\n",
    "print(\"Valores mayores a 4:\", valores_mayores)\n"
   ]
  },
  {
   "cell_type": "markdown",
   "metadata": {},
   "source": [
    "### Conclusión\n",
    "El preprocesamiento de datos con NumPy incluye una serie de técnicas fundamentales que ayudan a mejorar la calidad de los datos para análisis posteriores. Estas incluyen la identificación y manejo de valores faltantes, la eliminación de duplicados, la detección de outliers y la normalización de datos. NumPy nos proporciona herramientas eficientes y rápidas para llevar a cabo estos procesos."
   ]
  },
  {
   "cell_type": "markdown",
   "metadata": {},
   "source": [
    "### Leer un archivo CSV\n",
    "Podemos usar la función `np.genfromtxt()` para leer datos de un archivo CSV. Esta función es especialmente útil cuando los datos contienen valores faltantes."
   ]
  },
  {
   "cell_type": "code",
   "execution_count": 3,
   "metadata": {},
   "outputs": [
    {
     "name": "stdout",
     "output_type": "stream",
     "text": [
      "Datos leídos del archivo CSV:\n",
      "[[nan nan 18. ...  5.  6.  6.]\n",
      " [nan nan 17. ...  5.  5.  6.]\n",
      " [nan nan 15. ...  7.  8. 10.]\n",
      " ...\n",
      " [nan nan 21. ... 10.  8.  7.]\n",
      " [nan nan 18. ... 11. 12. 10.]\n",
      " [nan nan 19. ...  8.  9.  9.]]\n"
     ]
    }
   ],
   "source": [
    "# Asegúrate de tener un archivo CSV llamado 'datos.csv' en el mismo directorio\n",
    "datos_csv = np.genfromtxt('student-mat.csv', delimiter=',', skip_header=1)\n",
    "print(\"Datos leídos del archivo CSV:\")\n",
    "print(datos_csv)"
   ]
  },
  {
   "cell_type": "code",
   "execution_count": 4,
   "metadata": {},
   "outputs": [
    {
     "name": "stdout",
     "output_type": "stream",
     "text": [
      "[[ 0.  0. 18. ...  5.  6.  6.]\n",
      " [ 0.  0. 17. ...  5.  5.  6.]\n",
      " [ 0.  0. 15. ...  7.  8. 10.]\n",
      " ...\n",
      " [ 0.  0. 21. ... 10.  8.  7.]\n",
      " [ 0.  0. 18. ... 11. 12. 10.]\n",
      " [ 0.  0. 19. ...  8.  9.  9.]]\n"
     ]
    }
   ],
   "source": [
    "datos_csv = np.where(np.isnan(datos_csv), 0, datos_csv)\n",
    "print(datos_csv)"
   ]
  },
  {
   "cell_type": "code",
   "execution_count": 5,
   "metadata": {},
   "outputs": [
    {
     "data": {
      "text/plain": [
       "(395, 33)"
      ]
     },
     "execution_count": 5,
     "metadata": {},
     "output_type": "execute_result"
    }
   ],
   "source": [
    "np.shape(datos_csv)"
   ]
  },
  {
   "cell_type": "code",
   "execution_count": 6,
   "metadata": {},
   "outputs": [
    {
     "name": "stdout",
     "output_type": "stream",
     "text": [
      "[[4. 3. 4. 1.]\n",
      " [5. 3. 3. 1.]\n",
      " [4. 3. 2. 2.]\n",
      " ...\n",
      " [5. 5. 3. 3.]\n",
      " [4. 4. 1. 3.]\n",
      " [3. 2. 3. 3.]]\n",
      "[1. 1. 2. 1. 1. 1. 1. 1. 1. 1. 1. 1. 1. 1. 1. 1. 1. 1. 2. 1. 1. 1. 1. 2.\n",
      " 1. 1. 1. 2. 1. 5. 3. 1. 1. 1. 1. 1. 1. 1. 1. 1. 1. 2. 1. 1. 2. 1. 1. 1.\n",
      " 2. 1. 2. 1. 3. 2. 4. 1. 1. 1. 1. 1. 2. 5. 1. 2. 2. 1. 5. 1. 1. 2. 1. 1.\n",
      " 2. 2. 2. 2. 1. 1. 1. 1. 1. 1. 1. 1. 2. 2. 1. 1. 1. 3. 1. 1. 2. 1. 1. 1.\n",
      " 1. 1. 1. 1. 5. 1. 1. 1. 1. 1. 1. 1. 3. 1. 1. 1. 1. 1. 1. 1. 1. 1. 1. 1.\n",
      " 1. 1. 1. 1. 1. 3. 1. 1. 1. 2. 2. 1. 1. 1. 1. 1. 2. 1. 1. 1. 1. 2. 1. 3.\n",
      " 1. 1. 1. 1. 2. 2. 2. 3. 2. 1. 1. 1. 3. 1. 1. 4. 2. 1. 2. 1. 1. 1. 2. 1.\n",
      " 1. 1. 2. 1. 1. 1. 1. 4. 1. 1. 3. 1. 2. 1. 2. 2. 1. 2. 1. 1. 1. 1. 1. 1.\n",
      " 4. 3. 1. 1. 1. 3. 2. 1. 1. 1. 1. 1. 1. 3. 2. 1. 1. 1. 1. 4. 1. 2. 1. 1.\n",
      " 2. 2. 1. 1. 1. 1. 1. 5. 1. 1. 1. 1. 4. 1. 1. 1. 1. 2. 1. 1. 5. 1. 1. 3.\n",
      " 1. 2. 1. 1. 1. 1. 1. 5. 1. 2. 2. 1. 2. 1. 2. 1. 1. 1. 1. 1. 1. 1. 1. 1.\n",
      " 1. 3. 3. 2. 1. 1. 3. 1. 1. 2. 1. 2. 1. 1. 1. 1. 2. 3. 1. 1. 1. 1. 1. 1.\n",
      " 1. 1. 1. 1. 1. 1. 1. 1. 2. 1. 1. 2. 1. 2. 1. 1. 1. 1. 1. 1. 1. 1. 2. 1.\n",
      " 2. 1. 1. 1. 1. 1. 2. 3. 1. 1. 2. 2. 2. 2. 3. 5. 1. 1. 2. 1. 1. 1. 1. 1.\n",
      " 1. 2. 1. 2. 1. 2. 1. 1. 1. 2. 1. 2. 1. 5. 3. 2. 2. 3. 1. 1. 1. 1. 1. 1.\n",
      " 1. 2. 1. 1. 1. 2. 2. 1. 1. 4. 1. 2. 1. 1. 1. 1. 1. 3. 1. 2. 1. 1. 1. 1.\n",
      " 4. 1. 2. 1. 1. 1. 4. 3. 3. 3. 3.]\n"
     ]
    }
   ],
   "source": [
    "walc=datos_csv[:,-10:-6]\n",
    "print(walc)\n",
    "\n",
    "\n",
    "dalc=datos_csv[:,-7]\n",
    "\n",
    "print(dalc)"
   ]
  },
  {
   "cell_type": "code",
   "execution_count": 72,
   "metadata": {},
   "outputs": [
    {
     "name": "stdout",
     "output_type": "stream",
     "text": [
      "Promedio de consumo de alcohol en fines de semana 2.2911392405063293\n",
      "Promedio de consumo de alcohol en dias entresemana 1.481012658227848\n",
      "1.2862653104886688\n",
      "0.8896131927704095\n"
     ]
    }
   ],
   "source": [
    "mean_walc=np.mean(walc)\n",
    "mean_dalc=np.mean(dalc)\n",
    "\n",
    "\n",
    "print(f\"Promedio de consumo de alcohol en fines de semana {mean_walc}\")\n",
    "\n",
    "print(f\"Promedio de consumo de alcohol en dias entresemana {mean_dalc}\")\n",
    "\n",
    "\n",
    "print(np.std(walc))\n",
    "print(np.std(dalc))"
   ]
  }
 ],
 "metadata": {
  "kernelspec": {
   "display_name": "program_2",
   "language": "python",
   "name": "python3"
  },
  "language_info": {
   "codemirror_mode": {
    "name": "ipython",
    "version": 3
   },
   "file_extension": ".py",
   "mimetype": "text/x-python",
   "name": "python",
   "nbconvert_exporter": "python",
   "pygments_lexer": "ipython3",
   "version": "3.12.7"
  }
 },
 "nbformat": 4,
 "nbformat_minor": 2
}
