{
 "cells": [
  {
   "cell_type": "markdown",
   "metadata": {},
   "source": [
    "# Semana 3: Herencia y Polimorfismo en Python"
   ]
  },
  {
   "cell_type": "markdown",
   "metadata": {},
   "source": [
    "# Objetivos de la clase:\n",
    "- Comprender y aplicar el concepto de herencia en Python.\n",
    "- Aprender a crear subclases y utilizar `super()` para heredar funcionalidades.\n",
    "- Entender y aplicar el polimorfismo."
   ]
  },
  {
   "cell_type": "markdown",
   "metadata": {},
   "source": [
    "## Introducción a la Herencia\n",
    "Definición de una clase base llamada 'Animal' con un método genérico 'hacer_sonido'.\n",
    "Vamos a definir la clase y discutir cómo se puede usar para crear subclases."
   ]
  },
  {
   "cell_type": "code",
   "execution_count": 1,
   "metadata": {},
   "outputs": [],
   "source": [
    "\n",
    "class Animal:\n",
    "    def __init__(self, nombre):\n",
    "        self.nombre = nombre\n",
    "    \n",
    "    def hacer_sonido(self):\n",
    "        return \"Sonido genérico\"\n"
   ]
  },
  {
   "cell_type": "code",
   "execution_count": 2,
   "metadata": {},
   "outputs": [],
   "source": [
    "class Coches:\n",
    "     def __init__(self, marca):\n",
    "        self.marca = marca\n",
    "     def presentar_marca(self):\n",
    "        return \"Marca Generica\""
   ]
  },
  {
   "cell_type": "markdown",
   "metadata": {},
   "source": [
    "Creemos un objeto de la clase base 'Animal'.\n",
    "\n",
    "**Tarea para los estudiantes**: ¿Qué sucede si intentan crear diferentes animales y llamar al método 'hacer_sonido'?"
   ]
  },
  {
   "cell_type": "code",
   "execution_count": 3,
   "metadata": {},
   "outputs": [
    {
     "name": "stdout",
     "output_type": "stream",
     "text": [
      "Sonido genérico\n"
     ]
    }
   ],
   "source": [
    "mi_animal = Animal(\"Genérico\")\n",
    "print(mi_animal.hacer_sonido())\n"
   ]
  },
  {
   "cell_type": "markdown",
   "metadata": {},
   "source": [
    "## Creación de Subclases\n",
    "Ahora vamos a crear subclases que hereden de 'Animal'. Vamos a definir dos subclases: 'Perro' y 'Gato'.\n",
    "Las subclases tendrán su propia implementación del método 'hacer_sonido'."
   ]
  },
  {
   "cell_type": "code",
   "execution_count": 4,
   "metadata": {},
   "outputs": [],
   "source": [
    "class Perro(Animal):\n",
    "    def hacer_sonido(self):\n",
    "        return \"Guau\"\n",
    "\n",
    "class Gato(Animal):\n",
    "    def hacer_sonido(self):\n",
    "        return \"Miau\""
   ]
  },
  {
   "cell_type": "code",
   "execution_count": 21,
   "metadata": {},
   "outputs": [],
   "source": [
    "class Automovil(Coches):\n",
    "    def presentar_marca(self):\n",
    "        return 'El auto es un movil'"
   ]
  },
  {
   "cell_type": "code",
   "execution_count": 22,
   "metadata": {},
   "outputs": [
    {
     "name": "stdout",
     "output_type": "stream",
     "text": [
      "El auto es un movil\n"
     ]
    }
   ],
   "source": [
    "C1=Automovil('Toyota')\n",
    "\n",
    "print(C1.presentar_marca())"
   ]
  },
  {
   "cell_type": "markdown",
   "metadata": {},
   "source": [
    "**Tarea para los estudiantes**: Crear instancias de 'Perro' y 'Gato', y llamar al método 'hacer_sonido'."
   ]
  },
  {
   "cell_type": "code",
   "execution_count": 16,
   "metadata": {},
   "outputs": [
    {
     "name": "stdout",
     "output_type": "stream",
     "text": [
      "Guau\n"
     ]
    }
   ],
   "source": [
    "Perro_1=Perro('Foxy')\n",
    "print(Perro_1.hacer_sonido())"
   ]
  },
  {
   "cell_type": "code",
   "execution_count": 18,
   "metadata": {},
   "outputs": [
    {
     "name": "stdout",
     "output_type": "stream",
     "text": [
      "Miau\n"
     ]
    }
   ],
   "source": [
    "Gato_1=Gato('Terry')\n",
    "print(Gato_1.hacer_sonido())"
   ]
  },
  {
   "cell_type": "markdown",
   "metadata": {},
   "source": [
    "## Uso de `super()`\n",
    "Vamos a utilizar `super()` para reutilizar el código de inicialización de la clase base."
   ]
  },
  {
   "cell_type": "code",
   "execution_count": 29,
   "metadata": {},
   "outputs": [],
   "source": [
    "\n",
    "class Perro(Animal):\n",
    "    def __init__(self, nombre, raza):\n",
    "        super().__init__(nombre)\n",
    "        self.raza = raza\n",
    "    \n",
    "    def hacer_sonido(self):\n",
    "        return \"Guau\""
   ]
  },
  {
   "cell_type": "code",
   "execution_count": 35,
   "metadata": {},
   "outputs": [],
   "source": [
    "class Gato(Animal):\n",
    "    def __init__(self, nombre, raza):\n",
    "        super().__init__(nombre)\n",
    "        self.raza = raza\n",
    "    \n",
    "    def hacer_sonido(self):\n",
    "        return \"Miau\""
   ]
  },
  {
   "cell_type": "code",
   "execution_count": 42,
   "metadata": {},
   "outputs": [],
   "source": [
    "class Autos (Coches):\n",
    "    def __init__(self, marca):\n",
    "        super().__init__(marca)\n",
    "    def presentar_marca(self):\n",
    "        return 'movil'"
   ]
  },
  {
   "cell_type": "code",
   "execution_count": 43,
   "metadata": {},
   "outputs": [],
   "source": [
    "class Camion (Coches):\n",
    "    def __init__(self, marca):\n",
    "        super().__init__(marca)\n",
    "    def presentar_marca(self):\n",
    "        return 'Camion'"
   ]
  },
  {
   "cell_type": "markdown",
   "metadata": {},
   "source": [
    "**Tarea para los estudiantes**: Crear un objeto de la clase 'Perro' e imprimir el nombre y la raza."
   ]
  },
  {
   "cell_type": "code",
   "execution_count": 33,
   "metadata": {},
   "outputs": [
    {
     "name": "stdout",
     "output_type": "stream",
     "text": [
      "El perro de nombre Foxy es un Chihuhua \n"
     ]
    }
   ],
   "source": [
    "Perro_1=Perro('Foxy', 'Chihuhua')\n",
    "print(f\"El perro de nombre {Perro_1.nombre} es un {Perro_1.raza} \")"
   ]
  },
  {
   "cell_type": "code",
   "execution_count": 36,
   "metadata": {},
   "outputs": [
    {
     "name": "stdout",
     "output_type": "stream",
     "text": [
      "El gato de nombre Terry es un Siames \n"
     ]
    }
   ],
   "source": [
    "Gato_1=Gato('Terry','Siames')\n",
    "print(f\"El gato de nombre {Gato_1.nombre} es un {Gato_1.raza} \")"
   ]
  },
  {
   "cell_type": "markdown",
   "metadata": {},
   "source": [
    "## Polimorfismo\n",
    "Vamos a ver cómo funciona el polimorfismo cuando tenemos diferentes objetos que comparten una interfaz común."
   ]
  },
  {
   "cell_type": "code",
   "execution_count": 44,
   "metadata": {},
   "outputs": [
    {
     "name": "stdout",
     "output_type": "stream",
     "text": [
      "<__main__.Perro object at 0x00000156028CAB70>\n",
      "Fido dice: Guau\n",
      "<__main__.Gato object at 0x00000156028CBDD0>\n",
      "Whiskers dice: Miau\n"
     ]
    }
   ],
   "source": [
    "\n",
    "animales = [Perro(\"Fido\", \"Labrador\"), Gato(\"Whiskers\",'Siames')]\n",
    "for animal in animales:\n",
    "    print(animal)\n",
    "    print(f\"{animal.nombre} dice: {animal.hacer_sonido()}\")"
   ]
  },
  {
   "cell_type": "code",
   "execution_count": 45,
   "metadata": {},
   "outputs": [
    {
     "name": "stdout",
     "output_type": "stream",
     "text": [
      "El coche de marca Toyota es : movil\n",
      "El coche de marca Hino es : Camion\n"
     ]
    }
   ],
   "source": [
    "autos_v=[Autos('Toyota'),Camion('Hino')]\n",
    "\n",
    "for c in autos_v:\n",
    "    print(f\"El coche de marca {c.marca} es : {c.presentar_marca()}\")"
   ]
  },
  {
   "cell_type": "markdown",
   "metadata": {},
   "source": [
    "**Tarea para los estudiantes**: Añadir otra subclase llamada 'Pájaro' que también herede de 'Animal'\n",
    "e implemente el método 'hacer_sonido'. Luego, agregar una instancia de 'Pájaro' a la lista 'animales'."
   ]
  },
  {
   "cell_type": "code",
   "execution_count": 46,
   "metadata": {},
   "outputs": [],
   "source": [
    "class Pajaro (Animal):\n",
    "    def __init__(self, nombre, raza):\n",
    "        super().__init__(nombre)\n",
    "        self.raza=raza\n",
    "    def hacer_sonido(self):\n",
    "        return \"Canto\""
   ]
  },
  {
   "cell_type": "code",
   "execution_count": 48,
   "metadata": {},
   "outputs": [
    {
     "name": "stdout",
     "output_type": "stream",
     "text": [
      "Fido dice: Guau\n",
      "Whiskers dice: Miau\n",
      "Peter dice: Canto\n"
     ]
    }
   ],
   "source": [
    "animales = [Perro(\"Fido\", \"Labrador\"), Gato(\"Whiskers\",'Siames'), Pajaro('Peter','Gorrion')]\n",
    "for animal in animales:\n",
    "    print(f\"{animal.nombre} dice: {animal.hacer_sonido()}\")"
   ]
  },
  {
   "cell_type": "markdown",
   "metadata": {},
   "source": [
    "## Ejercicio Práctico de la Semana 3\n",
    "\n",
    "### Descripción del Ejercicio\n",
    "- Crear una clase base `Vehiculo` con un método `mover()` que imprima un mensaje genérico como \"El vehículo se está moviendo\".\n",
    "- Crear subclases `Coche` y `Bicicleta` que hereden de `Vehiculo` y sobreescriban el método `mover()` con mensajes específicos para cada tipo de vehículo.\n",
    "\n",
    "### Ejemplo de Código"
   ]
  },
  {
   "cell_type": "code",
   "execution_count": 49,
   "metadata": {},
   "outputs": [],
   "source": [
    "class Vehiculo:\n",
    "    def mover(self):\n",
    "        print(\"El vehículo se está moviendo\")\n",
    "\n",
    "class Coche(Vehiculo):\n",
    "    def mover(self):\n",
    "        print(\"El coche está conduciendo en la carretera\")\n",
    "\n",
    "class Bicicleta(Vehiculo):\n",
    "    def mover(self):\n",
    "        print(\"La bicicleta está avanzando por el carril bici\")"
   ]
  },
  {
   "cell_type": "markdown",
   "metadata": {},
   "source": [
    "**Tarea para los estudiantes**: Crear instancias de `Coche` y `Bicicleta` y llamar al método `mover()` en cada una."
   ]
  },
  {
   "cell_type": "code",
   "execution_count": 51,
   "metadata": {},
   "outputs": [
    {
     "name": "stdout",
     "output_type": "stream",
     "text": [
      "El coche está conduciendo en la carretera\n",
      "La bicicleta está avanzando por el carril bici\n"
     ]
    }
   ],
   "source": [
    "C1=Coche()\n",
    "B1=Bicicleta()\n",
    "\n",
    "C1.mover()\n",
    "B1.mover()"
   ]
  },
  {
   "cell_type": "markdown",
   "metadata": {},
   "source": [
    "\n",
    "\n",
    "**Actividad Extra**: Extender el ejercicio creando una subclase adicional `Motocicleta` que también herede de `Vehiculo` y tenga su propia implementación del método `mover()`."
   ]
  },
  {
   "cell_type": "markdown",
   "metadata": {},
   "source": []
  },
  {
   "cell_type": "markdown",
   "metadata": {},
   "source": []
  }
 ],
 "metadata": {
  "kernelspec": {
   "display_name": "program_2",
   "language": "python",
   "name": "python3"
  },
  "language_info": {
   "codemirror_mode": {
    "name": "ipython",
    "version": 3
   },
   "file_extension": ".py",
   "mimetype": "text/x-python",
   "name": "python",
   "nbconvert_exporter": "python",
   "pygments_lexer": "ipython3",
   "version": "3.12.7"
  }
 },
 "nbformat": 4,
 "nbformat_minor": 2
}
