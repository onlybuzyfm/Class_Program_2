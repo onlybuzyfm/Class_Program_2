{
 "cells": [
  {
   "cell_type": "markdown",
   "metadata": {},
   "source": [
    "# Semana 4: Métodos Mágicos, Sobrecarga de Operadores y Clases Abstractas"
   ]
  },
  {
   "cell_type": "markdown",
   "metadata": {},
   "source": [
    "# Objetivos de la clase:\n",
    "- Conocer y aplicar los métodos mágicos en Python.\n",
    "- Entender cómo funciona la sobrecarga de operadores.\n",
    "- Aprender a crear y utilizar clases abstractas.\n",
    "- Implementar métodos abstractos y subclases concretas."
   ]
  },
  {
   "cell_type": "markdown",
   "metadata": {},
   "source": [
    "## Métodos Mágicos\n",
    "### Introducción a los Métodos Mágicos\n",
    "Los métodos mágicos, también conocidos como métodos especiales o dunder methods, son métodos que comienzan y terminan con dobles guiones bajos (`__`). Estos métodos permiten definir comportamientos específicos para los objetos, tales como la inicialización, la conversión a cadena y la sobrecarga de operadores.\n",
    "\n",
    "Ejemplos de métodos mágicos incluyen:\n",
    "- `__init__`: Inicializa un nuevo objeto.\n",
    "- `__len__`: Define cómo obtener la longitud de un objeto.\n",
    "- `__add__`: Permite sobrecargar el operador `+`.\n",
    "\n",
    "Para obtener una lista completa de los métodos mágicos disponibles en Python, puedes consultar [este enlace](https://docs.python.org/3/reference/datamodel.html#special-method-names)."
   ]
  },
  {
   "cell_type": "markdown",
   "metadata": {},
   "source": [
    "### Ejemplo del Método Mágico `__len__`\n",
    "Queremos definir cómo obtener la longitud de un grupo de objetos. Vamos a implementar la clase `Grupo` con el método `__len__` para que podamos usar la función `len()` en sus instancias."
   ]
  },
  {
   "cell_type": "code",
   "execution_count": 3,
   "metadata": {},
   "outputs": [
    {
     "data": {
      "text/plain": [
       "4"
      ]
     },
     "execution_count": 3,
     "metadata": {},
     "output_type": "execute_result"
    }
   ],
   "source": [
    "ar=[1,2,3,4]\n",
    "len(ar)"
   ]
  },
  {
   "cell_type": "code",
   "execution_count": 9,
   "metadata": {},
   "outputs": [
    {
     "name": "stdout",
     "output_type": "stream",
     "text": [
      "3\n",
      "4\n"
     ]
    }
   ],
   "source": [
    "class Grupo:\n",
    "    def __init__(self, miembros):\n",
    "        self.miembros = miembros\n",
    "    \n",
    "    def __len__(self):\n",
    "        return len(self.miembros)\n",
    "\n",
    "# Crear una instancia de `Grupo`\n",
    "equipo = Grupo([\"Alice\", \"Bob\", \"Charlie\"])\n",
    "\n",
    "\n",
    "print(len(equipo))\n",
    "\n",
    "\n",
    "arObjeto=Grupo([1,2,3,4])\n",
    "\n",
    "print(len(arObjeto))\n",
    "\n",
    "\n",
    "# print(len(equipo))  # Imprime 3"
   ]
  },
  {
   "cell_type": "markdown",
   "metadata": {},
   "source": [
    "**Tarea para los estudiantes**: Crear una clase `Biblioteca` que contenga una lista de libros y usar el método `__len__` para definir el número de libros en la biblioteca."
   ]
  },
  {
   "cell_type": "code",
   "execution_count": 11,
   "metadata": {},
   "outputs": [
    {
     "name": "stdout",
     "output_type": "stream",
     "text": [
      "La Biblioteca tiene 4 libros.\n"
     ]
    }
   ],
   "source": [
    "libros=['Los Juegos de Hambre', 'Ciudad de Media Luna', 'Amor en tiempos de Colera', 'Cien Años de Soledad']\n",
    "\n",
    "class Biblioteca():\n",
    "    def __init__(self,libros) :\n",
    "        self.libros=libros\n",
    "    def __len__(self):\n",
    "        return len(self.libros)\n",
    "    \n",
    "    \n",
    "Bi1=Biblioteca(libros)\n",
    "\n",
    "print(f\"La Biblioteca tiene {len(Bi1)} libros.\")"
   ]
  },
  {
   "cell_type": "markdown",
   "metadata": {},
   "source": [
    "## Sobrecarga de Operadores\n",
    "### Introducción a la Sobrecarga de Operadores\n",
    "La sobrecarga de operadores permite redefinir el comportamiento de los operadores (como `+`, `-`, `*`, etc.) para que funcionen con objetos personalizados. Esto nos permite realizar operaciones entre instancias de nuestras clases de una manera más natural y legible.\n",
    "\n",
    "### Ejemplo con el Método Mágico `__add__`\n",
    "Vamos a implementar una clase `Vector` y sobrecargar el operador `+` para sumar dos vectores."
   ]
  },
  {
   "cell_type": "code",
   "execution_count": 12,
   "metadata": {},
   "outputs": [
    {
     "name": "stdout",
     "output_type": "stream",
     "text": [
      "Vector resultante: (4, 6)\n"
     ]
    }
   ],
   "source": [
    "\n",
    "class Vector:\n",
    "    def __init__(self, x, y):\n",
    "        self.x = x\n",
    "        self.y = y\n",
    "    \n",
    "    def __add__(self, otro):\n",
    "        return Vector(self.x + otro.x, self.y + otro.y)\n",
    "\n",
    "# Crear dos instancias de `Vector` y sumarlas\n",
    "v1 = Vector(1, 2)\n",
    "v2 = Vector(3, 4)\n",
    "v3 = v1 + v2\n",
    "print(f\"Vector resultante: ({v3.x}, {v3.y})\")"
   ]
  },
  {
   "cell_type": "markdown",
   "metadata": {},
   "source": [
    "**Tarea para los estudiantes**: Sobrecargar el operador `-` para la clase `Vector` para que reste los componentes de dos vectores."
   ]
  },
  {
   "cell_type": "code",
   "execution_count": 19,
   "metadata": {},
   "outputs": [
    {
     "name": "stdout",
     "output_type": "stream",
     "text": [
      "Vector resultante: (-2, -2)\n"
     ]
    }
   ],
   "source": [
    "\n",
    "class Vector:\n",
    "    def __init__(self, x, y):\n",
    "        self.x = x\n",
    "        self.y = y    \n",
    "    def __add__(self, otro):\n",
    "        return Vector(self.x + otro.x, self.y + otro.y)\n",
    "    def __sub__(self,otro):\n",
    "        return Vector(self.x - otro.x, self.y - otro.y)\n",
    "    \n",
    "\n",
    "v1 = Vector(1, 2)\n",
    "v2 = Vector(3, 4)\n",
    "v4 = v1 - v2\n",
    "print(f\"Vector resultante: ({v4.x}, {v4.y})\")\n"
   ]
  },
  {
   "cell_type": "markdown",
   "metadata": {},
   "source": [
    "## Clases Abstractas\n",
    "### Introducción a las Clases Abstractas\n",
    "Las clases abstractas se utilizan para definir una interfaz común que debe ser implementada por las subclases. No se pueden instanciar directamente y contienen métodos abstractos que deben ser redefinidos en las subclases.\n",
    "\n",
    "Para definir una clase abstracta en Python, utilizamos el módulo `abc` (Abstract Base Classes)."
   ]
  },
  {
   "cell_type": "code",
   "execution_count": 24,
   "metadata": {},
   "outputs": [
    {
     "data": {
      "text/plain": [
       "'Guau'"
      ]
     },
     "execution_count": 24,
     "metadata": {},
     "output_type": "execute_result"
    }
   ],
   "source": [
    "from abc import ABCMeta, abstractmethod\n",
    "\n",
    "class Animal(metaclass=ABCMeta):\n",
    "    @abstractmethod\n",
    "    def hacer_sonido(self):\n",
    "        pass\n",
    "\n",
    "\n",
    "class Perro(Animal):\n",
    "    def hacer_sonido(self):\n",
    "        return 'Guau'\n",
    "    \n",
    "    \n",
    "P1=Perro()\n",
    "\n",
    "P1.hacer_sonido()"
   ]
  },
  {
   "cell_type": "markdown",
   "metadata": {},
   "source": [
    "### Ejemplo Práctico de Clase Abstracta\n",
    "Queremos crear una clase abstracta `Figura` que tenga un método abstracto `area()`. Las subclases `Circulo` y `Rectangulo` deben implementar este método para calcular el área correspondiente."
   ]
  },
  {
   "cell_type": "code",
   "execution_count": 25,
   "metadata": {},
   "outputs": [
    {
     "name": "stdout",
     "output_type": "stream",
     "text": [
      "Área del círculo: 78.5\n"
     ]
    }
   ],
   "source": [
    "class Figura(metaclass=ABCMeta):\n",
    "    @abstractmethod\n",
    "    def area(self):\n",
    "        pass\n",
    "\n",
    "class Circulo(Figura):\n",
    "    def __init__(self, radio):\n",
    "        self.radio = radio\n",
    "    \n",
    "    def area(self):\n",
    "        return 3.14 * self.radio ** 2\n",
    "    \n",
    "    \n",
    "\n",
    "# Crear una instancia de `Circulo` y calcular el área\n",
    "circulo = Circulo(5)\n",
    "print(f\"Área del círculo: {circulo.area()}\")\n"
   ]
  },
  {
   "cell_type": "markdown",
   "metadata": {},
   "source": [
    "**Tarea para los estudiantes**: Crear una subclase `Rectangulo` que herede de `Figura` e implemente el método `area()`."
   ]
  },
  {
   "cell_type": "code",
   "execution_count": 30,
   "metadata": {},
   "outputs": [
    {
     "name": "stdout",
     "output_type": "stream",
     "text": [
      "El area del Rectangulo es: 200\n"
     ]
    }
   ],
   "source": [
    "class Rectangulo(Figura):\n",
    "    def __init__(self,w,h):\n",
    "        self.w=w\n",
    "        self.h=h\n",
    "    def area(self):\n",
    "        return self.w*self.h\n",
    "    \n",
    "    \n",
    "R1=Rectangulo(20,10)\n",
    "\n",
    "print(f\"El area del Rectangulo es: {R1.area()}\")"
   ]
  },
  {
   "cell_type": "markdown",
   "metadata": {},
   "source": [
    "## Ejercicio Práctico de la Semana 4\n",
    "\n",
    "### Descripción del Ejercicio\n",
    "- Definir una clase abstracta `InstrumentoMusical` con un método abstracto `tocar()`.\n",
    "- Crear subclases `Guitarra` y `Piano` que implementen el método `tocar()`.\n",
    "\n",
    "**Actividad Extra**: Añadir otra subclase `Violin` que implemente el método `tocar()`."
   ]
  },
  {
   "cell_type": "code",
   "execution_count": null,
   "metadata": {},
   "outputs": [],
   "source": []
  }
 ],
 "metadata": {
  "kernelspec": {
   "display_name": "program_2",
   "language": "python",
   "name": "python3"
  },
  "language_info": {
   "codemirror_mode": {
    "name": "ipython",
    "version": 3
   },
   "file_extension": ".py",
   "mimetype": "text/x-python",
   "name": "python",
   "nbconvert_exporter": "python",
   "pygments_lexer": "ipython3",
   "version": "3.12.7"
  }
 },
 "nbformat": 4,
 "nbformat_minor": 2
}
