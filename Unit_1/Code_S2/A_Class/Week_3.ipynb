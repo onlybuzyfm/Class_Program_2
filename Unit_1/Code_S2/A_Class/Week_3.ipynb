{
 "cells": [
  {
   "cell_type": "markdown",
   "metadata": {},
   "source": [
    "# Semana 3: Herencia y Polimorfismo en Python"
   ]
  },
  {
   "cell_type": "markdown",
   "metadata": {},
   "source": [
    "# Objetivos de la clase:\n",
    "- Comprender y aplicar el concepto de herencia en Python.\n",
    "- Aprender a crear subclases y utilizar `super()` para heredar funcionalidades.\n",
    "- Entender y aplicar el polimorfismo."
   ]
  },
  {
   "cell_type": "markdown",
   "metadata": {},
   "source": [
    "## Introducción a la Herencia\n",
    "Definición de una clase base llamada 'Animal' con un método genérico 'hacer_sonido'.\n",
    "Vamos a definir la clase y discutir cómo se puede usar para crear subclases."
   ]
  },
  {
   "cell_type": "code",
   "execution_count": null,
   "metadata": {},
   "outputs": [],
   "source": [
    "\n",
    "class Animal:\n",
    "    def __init__(self, nombre):\n",
    "        self.nombre = nombre\n",
    "    \n",
    "    def hacer_sonido(self):\n",
    "        return \"Sonido genérico\"\n",
    "    \n",
    "\n",
    "class Galleta:\n",
    "    def __init__(self,sabor):\n",
    "        self.sabor=sabor\n",
    "    def seleccion_marca(self):\n",
    "        return \"Marca generica\"\n",
    "    \n",
    "\n"
   ]
  },
  {
   "cell_type": "markdown",
   "metadata": {},
   "source": [
    "Creemos un objeto de la clase base 'Animal'.\n",
    "\n",
    "**Tarea para los estudiantes**: ¿Qué sucede si intentan crear diferentes animales y llamar al método 'hacer_sonido'?"
   ]
  },
  {
   "cell_type": "code",
   "execution_count": 3,
   "metadata": {},
   "outputs": [
    {
     "name": "stdout",
     "output_type": "stream",
     "text": [
      "Sonido genérico\n"
     ]
    }
   ],
   "source": [
    "mi_animal = Animal(\"Genérico\")\n",
    "print(mi_animal.hacer_sonido())"
   ]
  },
  {
   "cell_type": "code",
   "execution_count": 5,
   "metadata": {},
   "outputs": [
    {
     "name": "stdout",
     "output_type": "stream",
     "text": [
      "marca generica\n"
     ]
    }
   ],
   "source": [
    "mi_galleta= Galleta('Generica')\n",
    "print(mi_galleta.seleccion_marca())"
   ]
  },
  {
   "cell_type": "markdown",
   "metadata": {},
   "source": [
    "## Creación de Subclases\n",
    "Ahora vamos a crear subclases que hereden de 'Animal'. Vamos a definir dos subclases: 'Perro' y 'Gato'.\n",
    "Las subclases tendrán su propia implementación del método 'hacer_sonido'."
   ]
  },
  {
   "cell_type": "code",
   "execution_count": null,
   "metadata": {},
   "outputs": [],
   "source": [
    "class Perro(Animal):\n",
    "    def hacer_sonido(self):\n",
    "        return \"Guau\"\n",
    "\n",
    "class Gato(Animal):\n",
    "    def hacer_sonido(self):\n",
    "        return \"Miau\""
   ]
  },
  {
   "cell_type": "markdown",
   "metadata": {},
   "source": [
    "**Tarea para los estudiantes**: Crear instancias de 'Perro' y 'Gato', y llamar al método 'hacer_sonido'."
   ]
  },
  {
   "cell_type": "code",
   "execution_count": 13,
   "metadata": {},
   "outputs": [
    {
     "name": "stdout",
     "output_type": "stream",
     "text": [
      "Guau\n",
      "Marca Oreo \n"
     ]
    }
   ],
   "source": [
    "perro_1=Perro('Foxy')\n",
    "print(perro_1.hacer_sonido())\n",
    "\n",
    "class Oreo(Galleta):\n",
    "    def seleccion_marca(self):\n",
    "        return 'Marca Oreo '\n",
    "    \n",
    "mi_galleta_1=Oreo('Vainilla')\n",
    "\n",
    "print(mi_galleta_1.seleccion_marca())\n",
    "\n"
   ]
  },
  {
   "cell_type": "markdown",
   "metadata": {},
   "source": [
    "## Uso de `super()`\n",
    "Vamos a utilizar `super()` para reutilizar el código de inicialización de la clase base."
   ]
  },
  {
   "cell_type": "code",
   "execution_count": 32,
   "metadata": {},
   "outputs": [],
   "source": [
    "\n",
    "class Perro(Animal):\n",
    "    def __init__(self, nombre, raza):\n",
    "        super().__init__(nombre)\n",
    "        self.raza = raza\n",
    "    \n",
    "    def hacer_sonido(self):\n",
    "        return \"Guau\"\n",
    "    \n",
    "class Gato(Animal):\n",
    "    def __init__(self, nombre, raza):\n",
    "        super().__init__(nombre)\n",
    "        self.raza = raza\n",
    "    def hacer_sonido(self):\n",
    "        return \"Miau\""
   ]
  },
  {
   "cell_type": "markdown",
   "metadata": {},
   "source": [
    "**Tarea para los estudiantes**: Crear un objeto de la clase 'Perro' e imprimir el nombre y la raza."
   ]
  },
  {
   "cell_type": "code",
   "execution_count": 30,
   "metadata": {},
   "outputs": [
    {
     "name": "stdout",
     "output_type": "stream",
     "text": [
      "Foxy\n",
      "Chihuahua\n",
      "Guau\n"
     ]
    }
   ],
   "source": [
    "perro_1=Perro('Foxy', 'Chihuahua')\n",
    "print(perro_1.nombre)\n",
    "print(perro_1.raza)\n",
    "print(perro_1.hacer_sonido())"
   ]
  },
  {
   "cell_type": "code",
   "execution_count": 23,
   "metadata": {},
   "outputs": [],
   "source": [
    "class Oreo(Galleta):\n",
    "    def __init__(self, sabor, tipo):\n",
    "        super().__init__(sabor)\n",
    "        self.tipo=tipo\n",
    "    def seleccion_marca(self):\n",
    "        return f'Marca Oreo'"
   ]
  },
  {
   "cell_type": "code",
   "execution_count": 26,
   "metadata": {},
   "outputs": [
    {
     "name": "stdout",
     "output_type": "stream",
     "text": [
      "chocolate\n"
     ]
    }
   ],
   "source": [
    "galleta_sub= Oreo('chocolate','grande')\n",
    "\n",
    "print(galleta_sub.sabor)"
   ]
  },
  {
   "cell_type": "markdown",
   "metadata": {},
   "source": [
    "## Polimorfismo\n",
    "Vamos a ver cómo funciona el polimorfismo cuando tenemos diferentes objetos que comparten una interfaz común."
   ]
  },
  {
   "cell_type": "code",
   "execution_count": 33,
   "metadata": {},
   "outputs": [
    {
     "name": "stdout",
     "output_type": "stream",
     "text": [
      "Fido dice: Guau\n",
      "Whiskers dice: Miau\n"
     ]
    }
   ],
   "source": [
    "\n",
    "animales = [Perro(\"Fido\", \"Labrador\"), Gato(\"Whiskers\", 'Angora')]\n",
    "for animal in animales:\n",
    "    print(f\"{animal.nombre} dice: {animal.hacer_sonido()}\")"
   ]
  },
  {
   "cell_type": "markdown",
   "metadata": {},
   "source": [
    "**Tarea para los estudiantes**: Añadir otra subclase llamada 'Pájaro' que también herede de 'Animal'\n",
    "e implemente el método 'hacer_sonido'. Luego, agregar una instancia de 'Pájaro' a la lista 'animales'."
   ]
  },
  {
   "cell_type": "code",
   "execution_count": 38,
   "metadata": {},
   "outputs": [
    {
     "name": "stdout",
     "output_type": "stream",
     "text": [
      "<__main__.Perro object at 0x0000016619F85310>\n",
      "Marcus dice: Guau\n",
      "<__main__.Gato object at 0x0000016619F8F3E0>\n",
      "Whiskers dice: Miau\n",
      "<__main__.Pajaro object at 0x0000016619F8C470>\n",
      "Piolin dice: Yo no digo nada yo canto\n"
     ]
    }
   ],
   "source": [
    "class Pajaro(Animal):\n",
    "    def __init__(self, nombre,tipo):\n",
    "        super().__init__(nombre)\n",
    "        self.tipo=tipo\n",
    "    def hacer_sonido(self):\n",
    "        return 'Yo no digo nada yo canto'\n",
    "    \n",
    "\n",
    "animales = [Perro(\"Marcus\", \"Labrador\"), Gato(\"Whiskers\", 'Angora'), Pajaro('Piolin','Canario')]\n",
    "\n",
    "for animal in animales:\n",
    "    print(animal)\n",
    "    print(f\"{animal.nombre} dice: {animal.hacer_sonido()}\")\n",
    "    \n"
   ]
  },
  {
   "cell_type": "markdown",
   "metadata": {},
   "source": [
    "## Ejercicio Práctico de la Semana 3\n",
    "\n",
    "### Descripción del Ejercicio\n",
    "- Crear una clase base `Vehiculo` con un método `mover()` que imprima un mensaje genérico como \"El vehículo se está moviendo\".\n",
    "- Crear subclases `Coche` y `Bicicleta` que hereden de `Vehiculo` y sobreescriban el método `mover()` con mensajes específicos para cada tipo de vehículo.\n",
    "\n",
    "### Ejemplo de Código"
   ]
  },
  {
   "cell_type": "code",
   "execution_count": 44,
   "metadata": {},
   "outputs": [],
   "source": [
    "class Vehiculo:\n",
    "    def mover(self):\n",
    "        print(\"El vehículo se está moviendo\")\n",
    "\n",
    "class Coche(Vehiculo):\n",
    "    def mover(self):\n",
    "        return \"El coche está conduciendo en la carretera\"\n",
    "\n",
    "class Bicicleta(Vehiculo):\n",
    "    def mover(self):\n",
    "        return \"La bicicleta está avanzando por el carril bici\""
   ]
  },
  {
   "cell_type": "markdown",
   "metadata": {},
   "source": [
    "**Tarea para los estudiantes**: Crear instancias de `Coche` y `Bicicleta` y llamar al método `mover()` en cada una."
   ]
  },
  {
   "cell_type": "code",
   "execution_count": 45,
   "metadata": {},
   "outputs": [
    {
     "name": "stdout",
     "output_type": "stream",
     "text": [
      "El coche está conduciendo en la carretera\n",
      "La bicicleta está avanzando por el carril bici\n"
     ]
    }
   ],
   "source": [
    "vehiculos = [Coche(), Bicicleta()]\n",
    "\n",
    "for v in vehiculos:\n",
    "    print(v.mover())"
   ]
  },
  {
   "cell_type": "markdown",
   "metadata": {},
   "source": [
    "\n",
    "\n",
    "**Actividad Extra**: Extender el ejercicio creando una subclase adicional `Motocicleta` que también herede de `Vehiculo` y tenga su propia implementación del método `mover()`."
   ]
  },
  {
   "cell_type": "code",
   "execution_count": 46,
   "metadata": {},
   "outputs": [],
   "source": [
    "class Motocicleta(Vehiculo):\n",
    "      def mover(self):\n",
    "        return \"La Motocicleta va por el campo\""
   ]
  },
  {
   "cell_type": "code",
   "execution_count": 47,
   "metadata": {},
   "outputs": [
    {
     "name": "stdout",
     "output_type": "stream",
     "text": [
      "El coche está conduciendo en la carretera\n",
      "La bicicleta está avanzando por el carril bici\n",
      "La Motocicleta va por el campo\n"
     ]
    }
   ],
   "source": [
    "vehiculos = [Coche(), Bicicleta(), Motocicleta() ]\n",
    "\n",
    "for v in vehiculos:\n",
    "    print(v.mover())"
   ]
  }
 ],
 "metadata": {
  "kernelspec": {
   "display_name": "program_2",
   "language": "python",
   "name": "python3"
  },
  "language_info": {
   "codemirror_mode": {
    "name": "ipython",
    "version": 3
   },
   "file_extension": ".py",
   "mimetype": "text/x-python",
   "name": "python",
   "nbconvert_exporter": "python",
   "pygments_lexer": "ipython3",
   "version": "3.12.7"
  }
 },
 "nbformat": 4,
 "nbformat_minor": 2
}
