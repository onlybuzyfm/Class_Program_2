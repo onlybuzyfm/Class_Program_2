{
 "cells": [
  {
   "cell_type": "markdown",
   "metadata": {},
   "source": [
    "# Trabajo Autónomo 2: Clasificación del Dataset Iris\n",
    "\n",
    "## Objetivos\n",
    "- Aplicar los conceptos de herencia, polimorfismo, métodos mágicos y clases abstractas.\n",
    "- Implementar un proyecto utilizando Programación Orientada a Objetos (POO) para resolver un problema de clasificación con el dataset Iris.\n",
    "- Desarrollar una solución modular y extensible que promueva la reutilización del código.\n",
    "\n",
    "## Introducción\n",
    "En este trabajo autónomo, modelaremos el proceso de clasificación del dataset Iris utilizando Programación Orientada a Objetos (POO). A través de clases, herencia y métodos especiales, construiremos un clasificador simple que nos ayudará a diferenciar las especies de flores. Además, implementaremos el cálculo de la distancia entre instancias de flores para entender mejor la relación entre ellas.\n",
    "\n",
    "**Tareas**\n",
    "1. Implementar las clases base y derivadas para representar las flores del dataset Iris.\n",
    "2. Crear un clasificador que utilice lógica condicional para predecir la especie de la flor.\n",
    "3. Implementar métodos mágicos como `__str__` y `__add__` para las clases.\n",
    "4. Calcular la distancia entre dos instancias de flores para comparar características.\n",
    "\"\"\""
   ]
  },
  {
   "cell_type": "markdown",
   "metadata": {},
   "source": [
    "## Modelado de Clases con Programación Orientada a Objetos\n",
    "En esta sección, vamos a definir una clase base `Flor` y las subclases correspondientes para cada una de las especies de Iris. Cada clase contendrá los atributos necesarios y métodos que nos permitirán manipular la información de las flores de una manera sencilla.\n"
   ]
  },
  {
   "cell_type": "code",
   "execution_count": 77,
   "metadata": {},
   "outputs": [],
   "source": [
    "\n",
    "import math\n",
    "from abc import ABCMeta, abstractmethod\n",
    "\n",
    "class Flor:\n",
    "    def __init__(self, longitud_sepalo, ancho_sepalo, longitud_petalo, ancho_petalo):\n",
    "        # Inicializa las características de la flor\n",
    "        self.longitud_sepalo = longitud_sepalo\n",
    "        self.ancho_sepalo = ancho_sepalo\n",
    "        self.longitud_petalo = longitud_petalo\n",
    "        self.ancho_petalo = ancho_petalo\n",
    "    \n",
    "    def __str__(self):\n",
    "        # Devuelve una representación en cadena legible de la flor\n",
    "        return (f\"Flor: Longitud de sépalo: {self.longitud_sepalo}, Ancho de sépalo: {self.ancho_sepalo}, \"\n",
    "                f\"Longitud de pétalo: {self.longitud_petalo}, Ancho de pétalo: {self.ancho_petalo}\")\n",
    "    \n",
    "    def __add__(self, otra_flor):\n",
    "        #TODO: SE AÑADIERON LO ATIRBUTOS FALTANTES ASI NO DA ERROR\n",
    "        return Flor(\n",
    "            (self.longitud_sepalo + otra_flor.longitud_sepalo) / 2,\n",
    "            (self.ancho_sepalo + otra_flor.ancho_sepalo) / 2,\n",
    "            (self.longitud_petalo + otra_flor.longitud_petalo) / 2,\n",
    "            (self.ancho_petalo + otra_flor.ancho_petalo) / 2\n",
    "        )\n",
    "    \n",
    "        \n",
    "\n",
    "    # Sobrecarga del operador + para promediar las características de dos flores\n",
    "    \n",
    "    def calcular_distancia(self, otra_flor):\n",
    "        # Calcula la distancia euclidiana entre la flor actual y otra flor\n",
    "        return math.sqrt(\n",
    "            (self.longitud_sepalo - otra_flor.longitud_sepalo) ** 2 +\n",
    "            (self.ancho_sepalo - otra_flor.ancho_sepalo) ** 2 +\n",
    "            (self.longitud_petalo - otra_flor.longitud_petalo) ** 2 +\n",
    "            (self.ancho_petalo - otra_flor.ancho_petalo) ** 2\n",
    "        )\n",
    "\n",
    "\n"
   ]
  },
  {
   "cell_type": "markdown",
   "metadata": {},
   "source": [
    "## Subclases para Representar Especies Específicas\n",
    "Ahora vamos a crear subclases específicas para cada especie de flor: `IrisSetosa`, `IrisVersicolor`, e `IrisVirginica`. Cada subclase hereda de la clase base `Flor` y contiene un método que devuelve el nombre de la especie."
   ]
  },
  {
   "cell_type": "code",
   "execution_count": 78,
   "metadata": {},
   "outputs": [],
   "source": [
    "# Subclase para representar Iris Setosa\n",
    "class IrisSetosa(Flor):\n",
    "    def nombre_especie(self):\n",
    "        return \"Iris Setosa\"\n",
    "\n",
    "# # Subclase para representar Iris Versicolor\n",
    "class IrisVersicolor(Flor):\n",
    "    def nombre_especie(self):\n",
    "        return \"Iris Versicolor\"\n",
    "\n",
    "# # Subclase para representar Iris Virginica\n",
    "class IrisVirginica(Flor):\n",
    "    def nombre_especie(self):\n",
    "        return \"Iris Virginica\"\n"
   ]
  },
  {
   "cell_type": "markdown",
   "metadata": {},
   "source": [
    "## Definición de un Clasificador Abstracto\n",
    "Vamos a definir una clase abstracta `Clasificador` que servirá como base para nuestro clasificador de flores Iris. Posteriormente, implementaremos una clase concreta que extienda esta clase abstracta y que pueda clasificar nuestras flores."
   ]
  },
  {
   "cell_type": "code",
   "execution_count": 79,
   "metadata": {},
   "outputs": [],
   "source": [
    "# Clase abstracta para definir un Clasificador\n",
    "class Clasificador(metaclass=ABCMeta):\n",
    "    @abstractmethod\n",
    "    def clasificar(self, flor):\n",
    "        pass\n",
    "\n",
    "# Clasificador específico para flores del dataset Iris\n",
    "class ClasificadorIris(Clasificador):\n",
    "    def clasificar(self, flor):\n",
    "        # umbral iris setosa 2 \n",
    "        # umbral iris versicolor 5\n",
    "        if flor.longitud_petalo<2: \n",
    "            return 'Iris Setosa'\n",
    "        elif flor.longitud_petalo<5 and flor.longitud_petalo>2:\n",
    "            return 'Iris Versicolor'\n",
    "        else :\n",
    "            return 'Iris Virginica'\n",
    "        "
   ]
  },
  {
   "cell_type": "markdown",
   "metadata": {},
   "source": [
    "## Creación de Instancias y Pruebas\n",
    "A continuación, crearemos varias instancias de diferentes tipos de flores del dataset Iris. Vamos a probar el clasificador con estas instancias y también veremos cómo calcular la distancia entre flores y utilizar la sobrecarga de operadores.\n",
    "\n",
    "**Tareas**\n",
    "1. Crear instancias de `IrisSetosa`, `IrisVersicolor`, e `IrisVirginica`.\n",
    "2. Utilizar el clasificador para determinar la especie de cada flor.\n",
    "3. Calcular la distancia entre dos flores para ver cómo se relacionan.\n",
    "4. Probar la sobrecarga del operador `+` para combinar dos flores."
   ]
  },
  {
   "cell_type": "code",
   "execution_count": 80,
   "metadata": {},
   "outputs": [
    {
     "name": "stdout",
     "output_type": "stream",
     "text": [
      "Flor: Longitud de sépalo: 5.1, Ancho de sépalo: 3.5, Longitud de pétalo: 1.4, Ancho de pétalo: 0.2\n",
      "Flor: Longitud de sépalo: 6.2, Ancho de sépalo: 2.8, Longitud de pétalo: 4.8, Ancho de pétalo: 1.8\n",
      "Flor: Longitud de sépalo: 7.3, Ancho de sépalo: 2.9, Longitud de pétalo: 6.3, Ancho de pétalo: 1.8\n"
     ]
    }
   ],
   "source": [
    "datos_flor1 = IrisSetosa(5.1, 3.5, 1.4, 0.2)\n",
    "datos_flor2 = IrisVersicolor(6.2, 2.8, 4.8, 1.8)\n",
    "datos_flor3 = IrisVirginica(7.3, 2.9, 6.3, 1.8)\n",
    "\n",
    "# Imprimir las características de cada flor\n",
    "print(datos_flor1)  # Muestra las características de la flor 1\n",
    "print(datos_flor2)  # Muestra las características de la flor 2\n",
    "print(datos_flor3)  # Muestra las características de la flor 3"
   ]
  },
  {
   "cell_type": "markdown",
   "metadata": {},
   "source": [
    "## Clasificación de las Flores\n",
    "Utilizaremos la clase `ClasificadorIris` para determinar la especie de cada flor y mostrar los resultados."
   ]
  },
  {
   "cell_type": "code",
   "execution_count": 81,
   "metadata": {},
   "outputs": [],
   "source": [
    "clasificador = ClasificadorIris()\n",
    "\n",
    "# Clasificar cada flor e imprimir el resultado\n",
    "resultado1 = clasificador.clasificar(datos_flor1)\n",
    "resultado2 = clasificador.clasificar(datos_flor2)\n",
    "resultado3 = clasificador.clasificar(datos_flor3)"
   ]
  },
  {
   "cell_type": "code",
   "execution_count": 82,
   "metadata": {},
   "outputs": [
    {
     "name": "stdout",
     "output_type": "stream",
     "text": [
      "La flor 1 clasificada es: Iris Setosa\n",
      "La flor 2 clasificada es: Iris Versicolor\n",
      "La flor 3 clasificada es: Iris Virginica\n"
     ]
    }
   ],
   "source": [
    "print(f\"La flor 1 clasificada es: {resultado1}\")  # Resultado de la clasificación de la flor 1\n",
    "print(f\"La flor 2 clasificada es: {resultado2}\")  # Resultado de la clasificación de la flor 2\n",
    "print(f\"La flor 3 clasificada es: {resultado3}\")"
   ]
  },
  {
   "cell_type": "markdown",
   "metadata": {},
   "source": [
    "## Cálculo de Distancias\n",
    "Vamos a calcular la distancia entre `flor1` y otra flor para ver cuán similares son."
   ]
  },
  {
   "cell_type": "code",
   "execution_count": 83,
   "metadata": {},
   "outputs": [
    {
     "name": "stdout",
     "output_type": "stream",
     "text": [
      "La distancia entre la flor 1 y la flor de comparación es: 0.18027756377319923\n"
     ]
    }
   ],
   "source": [
    "flor_comparacion = Flor(5.0, 3.6, 1.3, 0.25)\n",
    "distancia = datos_flor1.calcular_distancia(flor_comparacion)\n",
    "print(f\"La distancia entre la flor 1 y la flor de comparación es: {distancia}\")  #TODO: ERROR VISTO EN CLASES NO SE REALIZO DE LOS 4 ATRIBUTOS SI NO SOLO 2 "
   ]
  },
  {
   "cell_type": "markdown",
   "metadata": {},
   "source": [
    "## Sobrecarga del Operador `+`\n",
    "Por último, vamos a utilizar la sobrecarga del operador `+` para combinar dos flores y obtener una nueva flor cuyas características sean el promedio de las dos originales."
   ]
  },
  {
   "cell_type": "code",
   "execution_count": 84,
   "metadata": {},
   "outputs": [
    {
     "name": "stdout",
     "output_type": "stream",
     "text": [
      "Flor promedio entre flor 1 y flor 2: Flor: Longitud de sépalo: 5.65, Ancho de sépalo: 3.15, Longitud de pétalo: 3.0999999999999996, Ancho de pétalo: 1.0\n"
     ]
    }
   ],
   "source": [
    "datos_flor1 = IrisSetosa(5.1, 3.5, 1.4, 0.2)\n",
    "datos_flor2 = IrisVersicolor(6.2, 2.8, 4.8, 1.8)\n",
    "flor_promedio = datos_flor1 + datos_flor2\n",
    "print(f\"Flor promedio entre flor 1 y flor 2: {flor_promedio}\")"
   ]
  }
 ],
 "metadata": {
  "kernelspec": {
   "display_name": "program_2",
   "language": "python",
   "name": "python3"
  },
  "language_info": {
   "codemirror_mode": {
    "name": "ipython",
    "version": 3
   },
   "file_extension": ".py",
   "mimetype": "text/x-python",
   "name": "python",
   "nbconvert_exporter": "python",
   "pygments_lexer": "ipython3",
   "version": "3.12.7"
  }
 },
 "nbformat": 4,
 "nbformat_minor": 2
}
