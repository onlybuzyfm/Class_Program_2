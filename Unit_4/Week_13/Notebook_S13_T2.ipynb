{
 "cells": [
  {
   "cell_type": "markdown",
   "metadata": {},
   "source": [
    "# Limpieza y Preparación de Datos con Pandas\n",
    "\n",
    "## Introducción\n",
    "Este notebook cubre técnicas esenciales para la limpieza y preparación de datos usando Pandas.\n"
   ]
  },
  {
   "cell_type": "markdown",
   "metadata": {},
   "source": [
    "## 1. Cargar datos\n",
    "Simulación de un DataFrame inicial para ilustrar los ejemplos."
   ]
  },
  {
   "cell_type": "code",
   "execution_count": 1,
   "metadata": {},
   "outputs": [],
   "source": [
    "import pandas as pd\n",
    "import numpy as np\n"
   ]
  },
  {
   "cell_type": "code",
   "execution_count": null,
   "metadata": {},
   "outputs": [],
   "source": [
    "data = {\n",
    "    'Nombre': ['Ana', 'Luis', 'Carlos', None, 'Diana', 'Luis', 'Ana', 'Maria', 'Pedro'],\n",
    "    'Edad': [25, 30, np.nan, 22, 29, 30, 25, None, 28],\n",
    "    'Ciudad': ['Quito', 'Guayaquil', 'Quito', 'Cuenca', None, 'Guayaquil', 'Quito', 'Cuenca', 'Quito'],\n",
    "    'Ingreso': [3000, 4500, np.nan, 2800, 3200, 4500, 3000, 3100, None],\n",
    "    'Activo': [True, True, False, True, False, True, True, False, True]\n",
    "}\n",
    "df = pd.DataFrame(data)\n",
    "print(df)"
   ]
  },
  {
   "cell_type": "markdown",
   "metadata": {},
   "source": [
    "\n",
    "## 2. Identificación de valores faltantes\n",
    "### Visualización de valores faltantes con `isna()` y mapa de calor."
   ]
  },
  {
   "cell_type": "code",
   "execution_count": null,
   "metadata": {},
   "outputs": [],
   "source": [
    "print(df.isna())\n",
    "print(df.isna().sum())\n",
    "\n",
    "import matplotlib.pyplot as plt\n",
    "import seaborn as sns\n",
    "sns.heatmap(df.isna(), cbar=False, cmap='viridis')\n",
    "plt.title(\"Mapa de Calor de Valores Faltantes\")\n",
    "plt.show()"
   ]
  },
  {
   "cell_type": "markdown",
   "metadata": {},
   "source": [
    "## 3. Manejo de valores faltantes\n",
    "### Eliminación y relleno de valores faltantes."
   ]
  },
  {
   "cell_type": "code",
   "execution_count": null,
   "metadata": {},
   "outputs": [],
   "source": [
    "# Eliminación\n",
    "df_dropna = df.dropna()\n",
    "print(df_dropna)\n",
    "\n",
    "# Relleno con valores personalizados\n",
    "df_fillna = df.fillna({\n",
    "    'Edad': df['Edad'].mean(),\n",
    "    'Ciudad': 'Desconocido',\n",
    "    'Ingreso': df['Ingreso'].median()\n",
    "})\n",
    "print(df_fillna)\n",
    "\n",
    "# Interpolación\n",
    "df_interpolated = df.interpolate()\n",
    "print(df_interpolated)"
   ]
  },
  {
   "cell_type": "markdown",
   "metadata": {},
   "source": [
    "## 4. Detección y eliminación de duplicados\n",
    "### Manejo de duplicados simples y personalizados."
   ]
  },
  {
   "cell_type": "code",
   "execution_count": null,
   "metadata": {},
   "outputs": [],
   "source": [
    "print(df.duplicated())\n",
    "\n",
    "# Eliminar duplicados\n",
    "df_no_duplicates = df.drop_duplicates()\n",
    "print(df_no_duplicates)\n",
    "\n",
    "# Duplicados específicos\n",
    "print(df.duplicated(subset=['Nombre', 'Edad']))\n",
    "df_no_duplicates_subset = df.drop_duplicates(subset=['Nombre', 'Edad'])\n",
    "print(df_no_duplicates_subset)"
   ]
  },
  {
   "cell_type": "markdown",
   "metadata": {},
   "source": [
    "## 5. Conversión de tipos de datos\n",
    "### Uso de `astype` para transformar columnas."
   ]
  },
  {
   "cell_type": "code",
   "execution_count": null,
   "metadata": {},
   "outputs": [],
   "source": [
    "df_converted = df_fillna.copy()\n",
    "df_converted['Edad'] = df_converted['Edad'].astype(int)\n",
    "df_converted['Ingreso'] = df_converted['Ingreso'].astype(float)\n",
    "df_converted['Activo'] = df_converted['Activo'].astype(bool)\n",
    "print(df_converted.dtypes)\n",
    "print(df_converted)"
   ]
  },
  {
   "cell_type": "markdown",
   "metadata": {},
   "source": [
    "## 6. Ejercicios avanzados\n",
    "### Crear nuevas columnas y filtrar datos."
   ]
  },
  {
   "cell_type": "code",
   "execution_count": null,
   "metadata": {},
   "outputs": [],
   "source": [
    "# Nueva columna\n",
    "print(\"\\n--- Creación de una nueva columna 'Ingreso Anual' ---\\n\")\n",
    "df_converted['Ingreso Anual'] = df_converted['Ingreso'] * 12\n",
    "print(df_converted)\n",
    "\n",
    "# Segmentación\n",
    "filtered_df = df_converted[(df_converted['Ingreso'] > 3500) & (df_converted['Activo'] == True)]\n",
    "print(filtered_df)"
   ]
  },
  {
   "cell_type": "markdown",
   "metadata": {},
   "source": [
    "### Agrupación y agregación"
   ]
  },
  {
   "cell_type": "code",
   "execution_count": null,
   "metadata": {},
   "outputs": [],
   "source": [
    "grouped = df_converted.groupby('Ciudad').agg({\n",
    "    'Edad': ['mean', 'min', 'max'],\n",
    "    'Ingreso': ['mean', 'sum']\n",
    "})\n",
    "print(grouped)"
   ]
  },
  {
   "cell_type": "markdown",
   "metadata": {},
   "source": [
    "### Combinación de DataFrames"
   ]
  },
  {
   "cell_type": "code",
   "execution_count": null,
   "metadata": {},
   "outputs": [],
   "source": [
    "new_data = {\n",
    "    'Nombre': ['Sofía', 'Juan'],\n",
    "    'Edad': [27, 35],\n",
    "    'Ciudad': ['Ambato', 'Loja'],\n",
    "    'Ingreso': [4000, 5000],\n",
    "    'Activo': [True, False]\n",
    "}\n",
    "df_new = pd.DataFrame(new_data)\n",
    "df_combined = pd.concat([df_converted, df_new], ignore_index=True)\n",
    "print(df_combined)"
   ]
  },
  {
   "cell_type": "markdown",
   "metadata": {},
   "source": [
    "### Funciones personalizadas"
   ]
  },
  {
   "cell_type": "code",
   "execution_count": null,
   "metadata": {},
   "outputs": [],
   "source": [
    "def categorizar_ingreso(ingreso):\n",
    "    if ingreso < 3000:\n",
    "        return 'Bajo'\n",
    "    elif 3000 <= ingreso <= 4000:\n",
    "        return 'Medio'\n",
    "    else:\n",
    "        return 'Alto'\n",
    "\n",
    "df_combined['Categoría Ingreso'] = df_combined['Ingreso'].apply(categorizar_ingreso)\n",
    "print(df_combined)"
   ]
  },
  {
   "cell_type": "markdown",
   "metadata": {},
   "source": [
    "## Conclusión\n",
    "Este notebook ha demostrado técnicas clave de limpieza de datos con Pandas y ha incluido ejercicios más complejos para fortalecer el aprendizaje.\n"
   ]
  }
 ],
 "metadata": {
  "kernelspec": {
   "display_name": "program_2",
   "language": "python",
   "name": "python3"
  },
  "language_info": {
   "codemirror_mode": {
    "name": "ipython",
    "version": 3
   },
   "file_extension": ".py",
   "mimetype": "text/x-python",
   "name": "python",
   "nbconvert_exporter": "python",
   "pygments_lexer": "ipython3",
   "version": "3.12.7"
  }
 },
 "nbformat": 4,
 "nbformat_minor": 2
}
